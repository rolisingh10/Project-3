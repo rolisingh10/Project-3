{
 "cells": [
  {
   "cell_type": "code",
   "execution_count": null,
   "id": "afda7ef6",
   "metadata": {},
   "outputs": [],
   "source": [
    "# build DB and create collections\n",
    "\n",
    "#libraries\n",
    "import pymongo\n",
    "import json\n",
    "import pprint\n",
    "import csv\n",
    "import pandas as pd \n",
    "\n",
    "# Connect to the MongoDB server\n",
    "client = pymongo.MongoClient('mongodb://localhost:27017/')\n",
    "\n",
    "# Create or get the 'healthbycountydata' database\n",
    "db = client['healthbycountydata']\n"
   ]
  },
  {
   "cell_type": "code",
   "execution_count": null,
   "id": "edb8ede9",
   "metadata": {},
   "outputs": [],
   "source": [
    "#url = 'url path'  Add this path if you are pointing at an URL to download data from API\n",
    "#replace the url path vairable where Cancer.json is below. \n",
    "\n",
    "#load the json file data\n",
    "\n",
    "# please note: the file is colocated in same directory as this file. \n",
    "# Please note: if you change locations of data files you must udpate the path below to reflect. \n",
    "with open('Cancer.json', 'r') as file:\n",
    "    data = json.load(file)\n",
    "    \n",
    "    \n",
    "# Create MN INcome collection \n",
    "collection2 =db['MNIncome']\n",
    "# Remove any data in collection to avoid double loading\n",
    "collection2.delete_many({})\n",
    "# Create Cancer data colection\n",
    "collection = db['cancer_data']\n",
    "# Remove any data in cancer collection to avoid double loading\n",
    "collection.delete_many({})\n",
    "# Insert the data into a collection named 'cancer_data'\n",
    "collection.insert_many(data)\n",
    "# Print the names of all collections in the database -- checking to make sure we have collections built. \n",
    "print(db.list_collection_names())"
   ]
  },
  {
   "cell_type": "code",
   "execution_count": null,
   "id": "4c5d444b",
   "metadata": {},
   "outputs": [],
   "source": [
    "\n",
    "# Retrieve the top  records\n",
    "top_record = collection.find().limit(1)\n",
    "# Print the top 1 records\n",
    "for record in top_record:\n",
    "    print(record)"
   ]
  },
  {
   "cell_type": "code",
   "execution_count": null,
   "id": "d2562ce6",
   "metadata": {},
   "outputs": [],
   "source": [
    "\n",
    "with open ('MNIncome.csv', 'r') as csvfile:\n",
    "    # Create a CSV reader object\n",
    "    reader = csv.DictReader(csvfile)\n",
    "    \n",
    "    # Convert each row to a dictionary and insert many documents at once\n",
    "    documents = [dict(row) for row in reader]\n",
    "    collection2.insert_many(documents)"
   ]
  },
  {
   "cell_type": "code",
   "execution_count": null,
   "id": "95adfd90",
   "metadata": {},
   "outputs": [],
   "source": [
    "# check data in MNIncome collection meta for next developers. \n",
    "\n",
    "print(collection2.info)\n",
    "# Check data in income collection\n",
    "top_record2 =collection2.find_one()\n",
    "print(top_record2)"
   ]
  },
  {
   "cell_type": "code",
   "execution_count": null,
   "id": "7fe9785e",
   "metadata": {},
   "outputs": [],
   "source": [
    "# check data in cancer collection meta for next develoeprs. \n",
    "print(collection2.info)"
   ]
  },
  {
   "cell_type": "code",
   "execution_count": null,
   "id": "773d2b41",
   "metadata": {},
   "outputs": [],
   "source": []
  },
  {
   "cell_type": "code",
   "execution_count": null,
   "id": "39b2682c",
   "metadata": {},
   "outputs": [],
   "source": [
    "\n",
    "# Close the MongoDB connection\n",
    "client.close()"
   ]
  }
 ],
 "metadata": {
  "kernelspec": {
   "display_name": "Python 3 (ipykernel)",
   "language": "python",
   "name": "python3"
  },
  "language_info": {
   "codemirror_mode": {
    "name": "ipython",
    "version": 3
   },
   "file_extension": ".py",
   "mimetype": "text/x-python",
   "name": "python",
   "nbconvert_exporter": "python",
   "pygments_lexer": "ipython3",
   "version": "3.9.13"
  }
 },
 "nbformat": 4,
 "nbformat_minor": 5
}
