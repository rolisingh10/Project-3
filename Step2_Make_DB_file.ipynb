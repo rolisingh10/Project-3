{
 "cells": [
  {
   "cell_type": "code",
   "execution_count": 1,
   "id": "afda7ef6",
   "metadata": {},
   "outputs": [
    {
     "ename": "ServerSelectionTimeoutError",
     "evalue": "localhost:27017: [WinError 10061] No connection could be made because the target machine actively refused it, Timeout: 30s, Topology Description: <TopologyDescription id: 64c07dcf5e9d90d515279891, topology_type: Unknown, servers: [<ServerDescription ('localhost', 27017) server_type: Unknown, rtt: None, error=AutoReconnect('localhost:27017: [WinError 10061] No connection could be made because the target machine actively refused it')>]>",
     "output_type": "error",
     "traceback": [
      "\u001b[1;31m---------------------------------------------------------------------------\u001b[0m",
      "\u001b[1;31mServerSelectionTimeoutError\u001b[0m               Traceback (most recent call last)",
      "Cell \u001b[1;32mIn[1], line 12\u001b[0m\n\u001b[0;32m      7\u001b[0m \u001b[38;5;66;03m#import csv bring in if we need to pull in csv\u001b[39;00m\n\u001b[0;32m      8\u001b[0m \u001b[38;5;66;03m#import pandas as pd if we use any data frames bring in\u001b[39;00m\n\u001b[0;32m      9\u001b[0m \n\u001b[0;32m     10\u001b[0m \u001b[38;5;66;03m# Connect to the MongoDB server\u001b[39;00m\n\u001b[0;32m     11\u001b[0m client \u001b[38;5;241m=\u001b[39m pymongo\u001b[38;5;241m.\u001b[39mMongoClient(\u001b[38;5;124m'\u001b[39m\u001b[38;5;124mmongodb://localhost:27017/\u001b[39m\u001b[38;5;124m'\u001b[39m)\n\u001b[1;32m---> 12\u001b[0m \u001b[43mclient\u001b[49m\u001b[38;5;241;43m.\u001b[39;49m\u001b[43mdrop_database\u001b[49m\u001b[43m(\u001b[49m\u001b[38;5;124;43m'\u001b[39;49m\u001b[38;5;124;43mhealthbycountydata\u001b[39;49m\u001b[38;5;124;43m'\u001b[39;49m\u001b[43m)\u001b[49m\n\u001b[0;32m     13\u001b[0m \u001b[38;5;66;03m# Create or get the 'healthbycountydata' database\u001b[39;00m\n\u001b[0;32m     14\u001b[0m db \u001b[38;5;241m=\u001b[39m client[\u001b[38;5;124m'\u001b[39m\u001b[38;5;124mhealthbycountydata\u001b[39m\u001b[38;5;124m'\u001b[39m]\n",
      "File \u001b[1;32m~\\anaconda3\\lib\\site-packages\\pymongo\\_csot.py:106\u001b[0m, in \u001b[0;36mapply.<locals>.csot_wrapper\u001b[1;34m(self, *args, **kwargs)\u001b[0m\n\u001b[0;32m    104\u001b[0m         \u001b[38;5;28;01mwith\u001b[39;00m _TimeoutContext(timeout):\n\u001b[0;32m    105\u001b[0m             \u001b[38;5;28;01mreturn\u001b[39;00m func(\u001b[38;5;28mself\u001b[39m, \u001b[38;5;241m*\u001b[39margs, \u001b[38;5;241m*\u001b[39m\u001b[38;5;241m*\u001b[39mkwargs)\n\u001b[1;32m--> 106\u001b[0m \u001b[38;5;28;01mreturn\u001b[39;00m func(\u001b[38;5;28mself\u001b[39m, \u001b[38;5;241m*\u001b[39margs, \u001b[38;5;241m*\u001b[39m\u001b[38;5;241m*\u001b[39mkwargs)\n",
      "File \u001b[1;32m~\\anaconda3\\lib\\site-packages\\pymongo\\mongo_client.py:1930\u001b[0m, in \u001b[0;36mMongoClient.drop_database\u001b[1;34m(self, name_or_database, session, comment)\u001b[0m\n\u001b[0;32m   1927\u001b[0m \u001b[38;5;28;01mif\u001b[39;00m \u001b[38;5;129;01mnot\u001b[39;00m \u001b[38;5;28misinstance\u001b[39m(name, \u001b[38;5;28mstr\u001b[39m):\n\u001b[0;32m   1928\u001b[0m     \u001b[38;5;28;01mraise\u001b[39;00m \u001b[38;5;167;01mTypeError\u001b[39;00m(\u001b[38;5;124m\"\u001b[39m\u001b[38;5;124mname_or_database must be an instance of str or a Database\u001b[39m\u001b[38;5;124m\"\u001b[39m)\n\u001b[1;32m-> 1930\u001b[0m \u001b[38;5;28;01mwith\u001b[39;00m \u001b[38;5;28;43mself\u001b[39;49m\u001b[38;5;241;43m.\u001b[39;49m\u001b[43m_socket_for_writes\u001b[49m\u001b[43m(\u001b[49m\u001b[43msession\u001b[49m\u001b[43m)\u001b[49m \u001b[38;5;28;01mas\u001b[39;00m sock_info:\n\u001b[0;32m   1931\u001b[0m     \u001b[38;5;28mself\u001b[39m[name]\u001b[38;5;241m.\u001b[39m_command(\n\u001b[0;32m   1932\u001b[0m         sock_info,\n\u001b[0;32m   1933\u001b[0m         {\u001b[38;5;124m\"\u001b[39m\u001b[38;5;124mdropDatabase\u001b[39m\u001b[38;5;124m\"\u001b[39m: \u001b[38;5;241m1\u001b[39m, \u001b[38;5;124m\"\u001b[39m\u001b[38;5;124mcomment\u001b[39m\u001b[38;5;124m\"\u001b[39m: comment},\n\u001b[1;32m   (...)\u001b[0m\n\u001b[0;32m   1937\u001b[0m         session\u001b[38;5;241m=\u001b[39msession,\n\u001b[0;32m   1938\u001b[0m     )\n",
      "File \u001b[1;32m~\\anaconda3\\lib\\site-packages\\pymongo\\mongo_client.py:1278\u001b[0m, in \u001b[0;36mMongoClient._socket_for_writes\u001b[1;34m(self, session)\u001b[0m\n\u001b[0;32m   1277\u001b[0m \u001b[38;5;28;01mdef\u001b[39;00m \u001b[38;5;21m_socket_for_writes\u001b[39m(\u001b[38;5;28mself\u001b[39m, session):\n\u001b[1;32m-> 1278\u001b[0m     server \u001b[38;5;241m=\u001b[39m \u001b[38;5;28;43mself\u001b[39;49m\u001b[38;5;241;43m.\u001b[39;49m\u001b[43m_select_server\u001b[49m\u001b[43m(\u001b[49m\u001b[43mwritable_server_selector\u001b[49m\u001b[43m,\u001b[49m\u001b[43m \u001b[49m\u001b[43msession\u001b[49m\u001b[43m)\u001b[49m\n\u001b[0;32m   1279\u001b[0m     \u001b[38;5;28;01mreturn\u001b[39;00m \u001b[38;5;28mself\u001b[39m\u001b[38;5;241m.\u001b[39m_get_socket(server, session)\n",
      "File \u001b[1;32m~\\anaconda3\\lib\\site-packages\\pymongo\\mongo_client.py:1268\u001b[0m, in \u001b[0;36mMongoClient._select_server\u001b[1;34m(self, server_selector, session, address)\u001b[0m\n\u001b[0;32m   1266\u001b[0m             \u001b[38;5;28;01mraise\u001b[39;00m AutoReconnect(\u001b[38;5;124m\"\u001b[39m\u001b[38;5;124mserver \u001b[39m\u001b[38;5;132;01m%s\u001b[39;00m\u001b[38;5;124m:\u001b[39m\u001b[38;5;132;01m%d\u001b[39;00m\u001b[38;5;124m no longer available\u001b[39m\u001b[38;5;124m\"\u001b[39m \u001b[38;5;241m%\u001b[39m address)\n\u001b[0;32m   1267\u001b[0m     \u001b[38;5;28;01melse\u001b[39;00m:\n\u001b[1;32m-> 1268\u001b[0m         server \u001b[38;5;241m=\u001b[39m \u001b[43mtopology\u001b[49m\u001b[38;5;241;43m.\u001b[39;49m\u001b[43mselect_server\u001b[49m\u001b[43m(\u001b[49m\u001b[43mserver_selector\u001b[49m\u001b[43m)\u001b[49m\n\u001b[0;32m   1269\u001b[0m     \u001b[38;5;28;01mreturn\u001b[39;00m server\n\u001b[0;32m   1270\u001b[0m \u001b[38;5;28;01mexcept\u001b[39;00m PyMongoError \u001b[38;5;28;01mas\u001b[39;00m exc:\n\u001b[0;32m   1271\u001b[0m     \u001b[38;5;66;03m# Server selection errors in a transaction are transient.\u001b[39;00m\n",
      "File \u001b[1;32m~\\anaconda3\\lib\\site-packages\\pymongo\\topology.py:271\u001b[0m, in \u001b[0;36mTopology.select_server\u001b[1;34m(self, selector, server_selection_timeout, address)\u001b[0m\n\u001b[0;32m    269\u001b[0m \u001b[38;5;28;01mdef\u001b[39;00m \u001b[38;5;21mselect_server\u001b[39m(\u001b[38;5;28mself\u001b[39m, selector, server_selection_timeout\u001b[38;5;241m=\u001b[39m\u001b[38;5;28;01mNone\u001b[39;00m, address\u001b[38;5;241m=\u001b[39m\u001b[38;5;28;01mNone\u001b[39;00m):\n\u001b[0;32m    270\u001b[0m     \u001b[38;5;124;03m\"\"\"Like select_servers, but choose a random server if several match.\"\"\"\u001b[39;00m\n\u001b[1;32m--> 271\u001b[0m     server \u001b[38;5;241m=\u001b[39m \u001b[38;5;28;43mself\u001b[39;49m\u001b[38;5;241;43m.\u001b[39;49m\u001b[43m_select_server\u001b[49m\u001b[43m(\u001b[49m\u001b[43mselector\u001b[49m\u001b[43m,\u001b[49m\u001b[43m \u001b[49m\u001b[43mserver_selection_timeout\u001b[49m\u001b[43m,\u001b[49m\u001b[43m \u001b[49m\u001b[43maddress\u001b[49m\u001b[43m)\u001b[49m\n\u001b[0;32m    272\u001b[0m     \u001b[38;5;28;01mif\u001b[39;00m _csot\u001b[38;5;241m.\u001b[39mget_timeout():\n\u001b[0;32m    273\u001b[0m         _csot\u001b[38;5;241m.\u001b[39mset_rtt(server\u001b[38;5;241m.\u001b[39mdescription\u001b[38;5;241m.\u001b[39mmin_round_trip_time)\n",
      "File \u001b[1;32m~\\anaconda3\\lib\\site-packages\\pymongo\\topology.py:260\u001b[0m, in \u001b[0;36mTopology._select_server\u001b[1;34m(self, selector, server_selection_timeout, address)\u001b[0m\n\u001b[0;32m    259\u001b[0m \u001b[38;5;28;01mdef\u001b[39;00m \u001b[38;5;21m_select_server\u001b[39m(\u001b[38;5;28mself\u001b[39m, selector, server_selection_timeout\u001b[38;5;241m=\u001b[39m\u001b[38;5;28;01mNone\u001b[39;00m, address\u001b[38;5;241m=\u001b[39m\u001b[38;5;28;01mNone\u001b[39;00m):\n\u001b[1;32m--> 260\u001b[0m     servers \u001b[38;5;241m=\u001b[39m \u001b[38;5;28;43mself\u001b[39;49m\u001b[38;5;241;43m.\u001b[39;49m\u001b[43mselect_servers\u001b[49m\u001b[43m(\u001b[49m\u001b[43mselector\u001b[49m\u001b[43m,\u001b[49m\u001b[43m \u001b[49m\u001b[43mserver_selection_timeout\u001b[49m\u001b[43m,\u001b[49m\u001b[43m \u001b[49m\u001b[43maddress\u001b[49m\u001b[43m)\u001b[49m\n\u001b[0;32m    261\u001b[0m     \u001b[38;5;28;01mif\u001b[39;00m \u001b[38;5;28mlen\u001b[39m(servers) \u001b[38;5;241m==\u001b[39m \u001b[38;5;241m1\u001b[39m:\n\u001b[0;32m    262\u001b[0m         \u001b[38;5;28;01mreturn\u001b[39;00m servers[\u001b[38;5;241m0\u001b[39m]\n",
      "File \u001b[1;32m~\\anaconda3\\lib\\site-packages\\pymongo\\topology.py:223\u001b[0m, in \u001b[0;36mTopology.select_servers\u001b[1;34m(self, selector, server_selection_timeout, address)\u001b[0m\n\u001b[0;32m    220\u001b[0m     server_timeout \u001b[38;5;241m=\u001b[39m server_selection_timeout\n\u001b[0;32m    222\u001b[0m \u001b[38;5;28;01mwith\u001b[39;00m \u001b[38;5;28mself\u001b[39m\u001b[38;5;241m.\u001b[39m_lock:\n\u001b[1;32m--> 223\u001b[0m     server_descriptions \u001b[38;5;241m=\u001b[39m \u001b[38;5;28;43mself\u001b[39;49m\u001b[38;5;241;43m.\u001b[39;49m\u001b[43m_select_servers_loop\u001b[49m\u001b[43m(\u001b[49m\u001b[43mselector\u001b[49m\u001b[43m,\u001b[49m\u001b[43m \u001b[49m\u001b[43mserver_timeout\u001b[49m\u001b[43m,\u001b[49m\u001b[43m \u001b[49m\u001b[43maddress\u001b[49m\u001b[43m)\u001b[49m\n\u001b[0;32m    225\u001b[0m     \u001b[38;5;28;01mreturn\u001b[39;00m [\u001b[38;5;28mself\u001b[39m\u001b[38;5;241m.\u001b[39mget_server_by_address(sd\u001b[38;5;241m.\u001b[39maddress) \u001b[38;5;28;01mfor\u001b[39;00m sd \u001b[38;5;129;01min\u001b[39;00m server_descriptions]\n",
      "File \u001b[1;32m~\\anaconda3\\lib\\site-packages\\pymongo\\topology.py:238\u001b[0m, in \u001b[0;36mTopology._select_servers_loop\u001b[1;34m(self, selector, timeout, address)\u001b[0m\n\u001b[0;32m    235\u001b[0m \u001b[38;5;28;01mwhile\u001b[39;00m \u001b[38;5;129;01mnot\u001b[39;00m server_descriptions:\n\u001b[0;32m    236\u001b[0m     \u001b[38;5;66;03m# No suitable servers.\u001b[39;00m\n\u001b[0;32m    237\u001b[0m     \u001b[38;5;28;01mif\u001b[39;00m timeout \u001b[38;5;241m==\u001b[39m \u001b[38;5;241m0\u001b[39m \u001b[38;5;129;01mor\u001b[39;00m now \u001b[38;5;241m>\u001b[39m end_time:\n\u001b[1;32m--> 238\u001b[0m         \u001b[38;5;28;01mraise\u001b[39;00m ServerSelectionTimeoutError(\n\u001b[0;32m    239\u001b[0m             \u001b[38;5;124mf\u001b[39m\u001b[38;5;124m\"\u001b[39m\u001b[38;5;132;01m{\u001b[39;00m\u001b[38;5;28mself\u001b[39m\u001b[38;5;241m.\u001b[39m_error_message(selector)\u001b[38;5;132;01m}\u001b[39;00m\u001b[38;5;124m, Timeout: \u001b[39m\u001b[38;5;132;01m{\u001b[39;00mtimeout\u001b[38;5;132;01m}\u001b[39;00m\u001b[38;5;124ms, Topology Description: \u001b[39m\u001b[38;5;132;01m{\u001b[39;00m\u001b[38;5;28mself\u001b[39m\u001b[38;5;241m.\u001b[39mdescription\u001b[38;5;132;01m!r}\u001b[39;00m\u001b[38;5;124m\"\u001b[39m\n\u001b[0;32m    240\u001b[0m         )\n\u001b[0;32m    242\u001b[0m     \u001b[38;5;28mself\u001b[39m\u001b[38;5;241m.\u001b[39m_ensure_opened()\n\u001b[0;32m    243\u001b[0m     \u001b[38;5;28mself\u001b[39m\u001b[38;5;241m.\u001b[39m_request_check_all()\n",
      "\u001b[1;31mServerSelectionTimeoutError\u001b[0m: localhost:27017: [WinError 10061] No connection could be made because the target machine actively refused it, Timeout: 30s, Topology Description: <TopologyDescription id: 64c07dcf5e9d90d515279891, topology_type: Unknown, servers: [<ServerDescription ('localhost', 27017) server_type: Unknown, rtt: None, error=AutoReconnect('localhost:27017: [WinError 10061] No connection could be made because the target machine actively refused it')>]>"
     ]
    }
   ],
   "source": [
    "# Step1-build DB and create collections\n",
    "\n",
    "#Import libraries\n",
    "import pymongo\n",
    "import json\n",
    "from flask import jsonify\n",
    "#import csv bring in if we need to pull in csv\n",
    "#import pandas as pd if we use any data frames bring in\n",
    "\n",
    "# Connect to the MongoDB server\n",
    "client = pymongo.MongoClient('mongodb://localhost:27017/')\n",
    "client.drop_database('healthbycountydata')\n",
    "# Create or get the 'healthbycountydata' database\n",
    "db = client['healthbycountydata']\n"
   ]
  },
  {
   "cell_type": "code",
   "execution_count": null,
   "id": "288eb99a",
   "metadata": {},
   "outputs": [],
   "source": [
    "# Step2 -Loading data sets.  All Data sets need to be located in folder on local \n",
    "#Data is in JSON format to load \n",
    "#JSON folder is titled Project_3_Data"
   ]
  },
  {
   "cell_type": "code",
   "execution_count": null,
   "id": "9417827e",
   "metadata": {},
   "outputs": [],
   "source": [
    "# json data file paths \n",
    "#if we have more data sources just add new line below. \n",
    "jsonfile_cancer = 'Cleaned_Data/cancer(2015-2019).json'\n",
    "jsonfile_asthma = 'Cleaned_Data/asthma(2018-2020).json'\n",
    "jsonfile_epa = 'Cleaned_Data/modified_final_epa_frs_clean.json'\n",
    "jsonfile_healthOutcomes = 'Cleaned_Data/healthoutcome(2023).json'\n",
    "#jsonfile_sig_vio ='Cleaned_Data/ECHO_Database_MN_SigViolations.geojson'\n",
    "\n",
    "# create a list of json sources to loop through for collection builds\n",
    "# if we add a data source above add it's var name to list below. \n",
    "sources = [jsonfile_cancer, jsonfile_asthma, jsonfile_epa, jsonfile_healthOutcomes]\n",
    "\n",
    "#looping through list of sources and creating mongo collections\n",
    "for json_file in sources:\n",
    "    with open(json_file, 'r') as file:\n",
    "        data = json.load(file)\n",
    "        collection =db[(json_file.split('/')[-1].split('.')[0])]\n",
    "        collection.insert_many(data)\n",
    "\n",
    "#check to verity collections built\n",
    "print(db.list_collection_names())"
   ]
  },
  {
   "cell_type": "code",
   "execution_count": null,
   "id": "0b8d7eba",
   "metadata": {},
   "outputs": [],
   "source": [
    "# Step 3-Meta for collections for API developer\n",
    "collection_names =db.list_collection_names()\n",
    "\n",
    "for collection_name in collection_names:\n",
    "        collection = db[collection_name]\n",
    "        document = collection.find_one()\n",
    "        print(f\"\\033[1mExample document from collection '{collection_name}'\\n\\n: \\033[0m {document}\\n\\n\")"
   ]
  },
  {
   "cell_type": "code",
   "execution_count": null,
   "id": "4c5d444b",
   "metadata": {},
   "outputs": [],
   "source": [
    "#Step 4-merging the data for the api easy grab\n",
    "\n",
    "collection1 = db['cancer(2015-2019)']\n",
    "collection2 = db['asthma(2018-2020)']\n",
    "collection3 = db['healthoutcome(2023)']\n",
    "\n",
    "# Function to merge documents from multiple collections\n",
    "def merge_collections(source_collection, target_collection):\n",
    "    for document in source_collection.find():\n",
    "        county = document['County']\n",
    "        document.pop('_id', None)\n",
    "        target_collection.update_one({'County': county}, {'$set': document}, upsert=True)\n",
    "\n",
    "#Merge documents from each collection into a new collection named 'merged_collection'\n",
    "merged_collection = db['merged_collection']\n",
    "\n",
    "merge_collections(collection1, merged_collection)\n",
    "merge_collections(collection2, merged_collection)\n",
    "merge_collections(collection3, merged_collection)\n",
    "\n",
    "print(\"Merged collections successfully!\")\n",
    "#print an example for api developer.  \n",
    "db['merged_collection'].find_one()"
   ]
  },
  {
   "cell_type": "code",
   "execution_count": null,
   "id": "49569105",
   "metadata": {},
   "outputs": [],
   "source": [
    "\n",
    "# Close the MongoDB connection\n",
    "client.close()"
   ]
  }
 ],
 "metadata": {
  "kernelspec": {
   "display_name": "Python 3 (ipykernel)",
   "language": "python",
   "name": "python3"
  },
  "language_info": {
   "codemirror_mode": {
    "name": "ipython",
    "version": 3
   },
   "file_extension": ".py",
   "mimetype": "text/x-python",
   "name": "python",
   "nbconvert_exporter": "python",
   "pygments_lexer": "ipython3",
   "version": "3.10.9"
  }
 },
 "nbformat": 4,
 "nbformat_minor": 5
}
