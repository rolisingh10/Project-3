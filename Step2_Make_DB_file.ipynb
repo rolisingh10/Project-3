{
 "cells": [
  {
   "cell_type": "code",
   "execution_count": 9,
   "id": "afda7ef6",
   "metadata": {},
   "outputs": [],
   "source": [
    "# Step1-build DB and create collections\n",
    "\n",
    "#Import libraries\n",
    "import pymongo\n",
    "import json\n",
    "from flask import jsonify\n",
    "#import csv bring in if we need to pull in csv\n",
    "#import pandas as pd if we use any data frames bring in\n",
    "\n",
    "# Connect to the MongoDB server\n",
    "client = pymongo.MongoClient('mongodb://localhost:27017/')\n",
    "client.drop_database('healthbycountydata')\n",
    "# Create or get the 'healthbycountydata' database\n",
    "db = client['healthbycountydata']\n"
   ]
  },
  {
   "cell_type": "code",
   "execution_count": null,
   "id": "288eb99a",
   "metadata": {},
   "outputs": [],
   "source": [
    "# Step2 -Loading data sets.  All Data sets need to be located in folder on local \n",
    "#Data is in JSON format to load \n",
    "#JSON folder is titled Project_3_Data"
   ]
  },
  {
   "cell_type": "code",
   "execution_count": 10,
   "id": "9417827e",
   "metadata": {},
   "outputs": [
    {
     "name": "stdout",
     "output_type": "stream",
     "text": [
      "['asthma(2018-2020)', 'cancer(2015-2019)', 'healthoutcome(2023)', 'modified_final_epa_frs_clean']\n"
     ]
    }
   ],
   "source": [
    "# json data file paths \n",
    "#if we have more data sources just add new line below. \n",
    "jsonfile_cancer = 'Cleaned_Data/cancer(2015-2019).json'\n",
    "jsonfile_asthma = 'Cleaned_Data/asthma(2018-2020).json'\n",
    "jsonfile_epa = 'Cleaned_Data/modified_final_epa_frs_clean.json'\n",
    "jsonfile_healthOutcomes = 'Cleaned_Data/healthoutcome(2023).json'\n",
    "#jsonfile_sig_vio ='Cleaned_Data/ECHO_Database_MN_SigViolations.geojson'\n",
    "\n",
    "# create a list of json sources to loop through for collection builds\n",
    "# if we add a data source above add it's var name to list below. \n",
    "sources = [jsonfile_cancer, jsonfile_asthma, jsonfile_epa, jsonfile_healthOutcomes]\n",
    "\n",
    "#looping through list of sources and creating mongo collections\n",
    "for json_file in sources:\n",
    "    with open(json_file, 'r') as file:\n",
    "        data = json.load(file)\n",
    "        collection =db[(json_file.split('/')[-1].split('.')[0])]\n",
    "        collection.insert_many(data)\n",
    "\n",
    "#check to verity collections built\n",
    "print(db.list_collection_names())"
   ]
  },
  {
   "cell_type": "code",
   "execution_count": 11,
   "id": "0b8d7eba",
   "metadata": {},
   "outputs": [
    {
     "name": "stdout",
     "output_type": "stream",
     "text": [
      "\u001b[1mExample document from collection 'asthma(2018-2020)'\n",
      "\n",
      ": \u001b[0m {'_id': ObjectId('64c30956e9ab7fbdc0b2db33'), 'county': 'Aitkin', 'asthma_rate_per_100k': 2.0, 'count_of_cases': 9.0}\n",
      "\n",
      "\n",
      "\u001b[1mExample document from collection 'cancer(2015-2019)'\n",
      "\n",
      ": \u001b[0m {'_id': ObjectId('64c30956e9ab7fbdc0b2dadb'), 'county': 'Aitkin', 'county_population': 15834.0, 'cancer_rate_per_100k': 449.5}\n",
      "\n",
      "\n",
      "\u001b[1mExample document from collection 'healthoutcome(2023)'\n",
      "\n",
      ": \u001b[0m {'_id': ObjectId('64c30957e9ab7fbdc0b2ead6'), 'FIPS': 27001.0, 'county': 'Aitkin', 'hlt_outcome_z': 0.4314502056, 'hlt_outcome_rank': 69.0, 'hlt_factor_z': 0.7610145124, 'hlt_factor_rank': 82.0}\n",
      "\n",
      "\n",
      "\u001b[1mExample document from collection 'modified_final_epa_frs_clean'\n",
      "\n",
      ": \u001b[0m {'_id': ObjectId('64c30956e9ab7fbdc0b2db8b'), 'REGISTRY_ID': 110040710905, 'SITE PRIMARY NAME': '13869 FORMER GAS STATION', 'SITE_ADDRESS': '402 W THORPE AVE', 'COUNTY_NAME': 'NORMAN', 'SITE_TYPE_NAME': 'STATIONARY', 'INTEREST_TYPES': 'LEAKING UNDERGROUND STORAGE TANK - ARRA', 'LATITUDE': 47.29626, 'LONGITUDE': -96.520978}\n",
      "\n",
      "\n"
     ]
    }
   ],
   "source": [
    "# Step 3-Meta for collections for API developer\n",
    "collection_names =db.list_collection_names()\n",
    "\n",
    "for collection_name in collection_names:\n",
    "        collection = db[collection_name]\n",
    "        document = collection.find_one()\n",
    "        print(f\"\\033[1mExample document from collection '{collection_name}'\\n\\n: \\033[0m {document}\\n\\n\")"
   ]
  },
  {
   "cell_type": "code",
   "execution_count": 12,
   "id": "4c5d444b",
   "metadata": {},
   "outputs": [
    {
     "name": "stdout",
     "output_type": "stream",
     "text": [
      "Merged collections successfully!\n"
     ]
    },
    {
     "data": {
      "text/plain": [
       "{'_id': ObjectId('64c3096031be63eb8bf4d88c'),\n",
       " 'county': 'Aitkin',\n",
       " 'cancer_rate_per_100k': 449.5,\n",
       " 'county_population': 15834.0,\n",
       " 'asthma_rate_per_100k': 2.0,\n",
       " 'count_of_cases': 9.0,\n",
       " 'FIPS': 27001.0,\n",
       " 'hlt_factor_rank': 82.0,\n",
       " 'hlt_factor_z': 0.7610145124,\n",
       " 'hlt_outcome_rank': 69.0,\n",
       " 'hlt_outcome_z': 0.4314502056}"
      ]
     },
     "execution_count": 12,
     "metadata": {},
     "output_type": "execute_result"
    }
   ],
   "source": [
    "#Step 4-merging the data for the api easy grab\n",
    "\n",
    "collection1 = db['cancer(2015-2019)']\n",
    "collection2 = db['asthma(2018-2020)']\n",
    "collection3 = db['healthoutcome(2023)']\n",
    "\n",
    "# Function to merge documents from multiple collections\n",
    "def merge_collections(source_collection, target_collection):\n",
    "    for document in source_collection.find():\n",
    "        county = document['county']\n",
    "        document.pop('_id', None)\n",
    "        target_collection.update_one({'county': county}, {'$set': document}, upsert=True)\n",
    "\n",
    "#Merge documents from each collection into a new collection named 'merged_collection'\n",
    "merged_collection = db['merged_collection']\n",
    "\n",
    "merge_collections(collection1, merged_collection)\n",
    "merge_collections(collection2, merged_collection)\n",
    "merge_collections(collection3, merged_collection)\n",
    "\n",
    "print(\"Merged collections successfully!\")\n",
    "#print an example for api developer.  \n",
    "db['merged_collection'].find_one()"
   ]
  },
  {
   "cell_type": "code",
   "execution_count": 13,
   "id": "49569105",
   "metadata": {},
   "outputs": [],
   "source": [
    "\n",
    "# Close the MongoDB connection\n",
    "client.close()"
   ]
  },
  {
   "cell_type": "code",
   "execution_count": null,
   "id": "99374ef1",
   "metadata": {},
   "outputs": [],
   "source": []
  }
 ],
 "metadata": {
  "kernelspec": {
   "display_name": "Python 3 (ipykernel)",
   "language": "python",
   "name": "python3"
  },
  "language_info": {
   "codemirror_mode": {
    "name": "ipython",
    "version": 3
   },
   "file_extension": ".py",
   "mimetype": "text/x-python",
   "name": "python",
   "nbconvert_exporter": "python",
   "pygments_lexer": "ipython3",
   "version": "3.10.9"
  }
 },
 "nbformat": 4,
 "nbformat_minor": 5
}
