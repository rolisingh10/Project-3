{
 "cells": [
  {
   "cell_type": "code",
   "execution_count": 1,
   "id": "afda7ef6",
   "metadata": {},
   "outputs": [],
   "source": [
    "# Step1-build DB and create collections\n",
    "\n",
    "#Import libraries\n",
    "import pymongo\n",
    "import json\n",
    "from flask import jsonify\n",
    "#import csv bring in if we need to pull in csv\n",
    "#import pandas as pd if we use any data frames bring in\n",
    "\n",
    "# Connect to the MongoDB server\n",
    "client = pymongo.MongoClient('mongodb://localhost:27017/')\n",
    "client.drop_database('healthbycountydata')\n",
    "# Create or get the 'healthbycountydata' database\n",
    "db = client['healthbycountydata']\n"
   ]
  },
  {
   "cell_type": "code",
   "execution_count": 2,
   "id": "288eb99a",
   "metadata": {},
   "outputs": [],
   "source": [
    "# Step2 -Loading data sets.  All Data sets need to be located in folder on local \n",
    "#Data is in JSON format to load \n",
    "#JSON folder is titled Project_3_Data"
   ]
  },
  {
   "cell_type": "code",
   "execution_count": 3,
   "id": "9417827e",
   "metadata": {},
   "outputs": [
    {
     "name": "stdout",
     "output_type": "stream",
     "text": [
      "['asthma(2018-2020)', 'healthoutcome(2023)', 'modified_final_epa_frs_clean', 'cancer(2015-2019)']\n"
     ]
    }
   ],
   "source": [
    "# json data file paths \n",
    "#if we have more data sources just add new line below. \n",
    "jsonfile_cancer = 'Cleaned_Data/cancer(2015-2019).json'\n",
    "jsonfile_asthma = 'Cleaned_Data/asthma(2018-2020).json'\n",
    "jsonfile_epa = 'Cleaned_Data/modified_final_epa_frs_clean.json'\n",
    "jsonfile_healthOutcomes = 'Cleaned_Data/healthoutcome(2023).json'\n",
    "#jsonfile_sig_vio ='Cleaned_Data/ECHO_Database_MN_SigViolations.geojson'\n",
    "\n",
    "# create a list of json sources to loop through for collection builds\n",
    "# if we add a data source above add it's var name to list below. \n",
    "sources = [jsonfile_cancer, jsonfile_asthma, jsonfile_epa, jsonfile_healthOutcomes]\n",
    "\n",
    "#looping through list of sources and creating mongo collections\n",
    "for json_file in sources:\n",
    "    with open(json_file, 'r') as file:\n",
    "        data = json.load(file)\n",
    "        collection =db[(json_file.split('/')[-1].split('.')[0])]\n",
    "        collection.insert_many(data)\n",
    "\n",
    "#check to verity collections built\n",
    "print(db.list_collection_names())"
   ]
  },
  {
   "cell_type": "code",
   "execution_count": 4,
   "id": "0b8d7eba",
   "metadata": {},
   "outputs": [
    {
     "name": "stdout",
     "output_type": "stream",
     "text": [
      "\u001b[1mExample document from collection 'asthma(2018-2020)'\n",
      "\n",
      ": \u001b[0m {'_id': ObjectId('64c30bf28b9cc1ef8a5b93f0'), 'County': 'Aitkin', 'Age-adjusted rate per 10,000': 2.0, 'Count of cases': 9.0}\n",
      "\n",
      "\n",
      "\u001b[1mExample document from collection 'healthoutcome(2023)'\n",
      "\n",
      ": \u001b[0m {'_id': ObjectId('64c30bf28b9cc1ef8a5c1ce7'), 'FIPS': 27001.0, 'County': 'Aitkin', 'HealthOutcome(Z-Score)': 0.4314502056, 'HealthOutcome(Rank)': 69.0, 'HealthFactor(Z-Score)': 0.7610145124, 'HealthFactor(Rank)': 82.0}\n",
      "\n",
      "\n",
      "\u001b[1mExample document from collection 'modified_final_epa_frs_clean'\n",
      "\n",
      ": \u001b[0m {'_id': ObjectId('64c30bf28b9cc1ef8a5b9448'), 'REGISTRY_ID': 110028032572, 'PRIMARY_NAME': 'ADAMS WIND FARM', 'LOCATION_ADDRESS': '12933 660 AVE', 'COUNTY_NAME': 'MOWER', 'SITE_TYPE_NAME': 'STATIONARY', 'INTEREST_TYPES': 'ELECTRIC GENERATOR, ELECTRIC POWER GENERATOR (WIND BASED)', 'LATITUDE': 43.54253, 'LONGITUDE': -92.728713}\n",
      "\n",
      "\n",
      "\u001b[1mExample document from collection 'cancer(2015-2019)'\n",
      "\n",
      ": \u001b[0m {'_id': ObjectId('64c30bf28b9cc1ef8a5b9398'), 'County': 'Aitkin', 'County population': 15834.0, 'Rate per 100,000': 449.5}\n",
      "\n",
      "\n"
     ]
    }
   ],
   "source": [
    "# Step 3-Meta for collections for API developer\n",
    "collection_names =db.list_collection_names()\n",
    "\n",
    "for collection_name in collection_names:\n",
    "        collection = db[collection_name]\n",
    "        document = collection.find_one()\n",
    "        print(f\"\\033[1mExample document from collection '{collection_name}'\\n\\n: \\033[0m {document}\\n\\n\")"
   ]
  },
  {
   "cell_type": "code",
   "execution_count": 5,
   "id": "4c5d444b",
   "metadata": {},
   "outputs": [
    {
     "name": "stdout",
     "output_type": "stream",
     "text": [
      "Merged collections successfully!\n"
     ]
    },
    {
     "data": {
      "text/plain": [
       "{'_id': ObjectId('64c30bf2f0cd20f757eab4ba'),\n",
       " 'County': 'Aitkin',\n",
       " 'County population': 15834.0,\n",
       " 'Rate per 100,000': 449.5,\n",
       " 'Age-adjusted rate per 10,000': 2.0,\n",
       " 'Count of cases': 9.0,\n",
       " 'FIPS': 27001.0,\n",
       " 'HealthFactor(Rank)': 82.0,\n",
       " 'HealthFactor(Z-Score)': 0.7610145124,\n",
       " 'HealthOutcome(Rank)': 69.0,\n",
       " 'HealthOutcome(Z-Score)': 0.4314502056}"
      ]
     },
     "execution_count": 5,
     "metadata": {},
     "output_type": "execute_result"
    }
   ],
   "source": [
    "#Step 4-merging the data for the api easy grab\n",
    "\n",
    "collection1 = db['cancer(2015-2019)']\n",
    "collection2 = db['asthma(2018-2020)']\n",
    "collection3 = db['healthoutcome(2023)']\n",
    "\n",
    "# Function to merge documents from multiple collections\n",
    "def merge_collections(source_collection, target_collection):\n",
    "    for document in source_collection.find():\n",
    "        county = document['County']\n",
    "        document.pop('_id', None)\n",
    "        target_collection.update_one({'County': county}, {'$set': document}, upsert=True)\n",
    "\n",
    "#Merge documents from each collection into a new collection named 'merged_collection'\n",
    "merged_collection = db['merged_collection']\n",
    "\n",
    "merge_collections(collection1, merged_collection)\n",
    "merge_collections(collection2, merged_collection)\n",
    "merge_collections(collection3, merged_collection)\n",
    "\n",
    "print(\"Merged collections successfully!\")\n",
    "#print an example for api developer.  \n",
    "db['merged_collection'].find_one()"
   ]
  },
  {
   "cell_type": "code",
   "execution_count": 6,
   "id": "ad170251",
   "metadata": {},
   "outputs": [
    {
     "data": {
      "text/plain": [
       "{'_id': ObjectId('64c30bf28b9cc1ef8a5c1d3e'),\n",
       " 'type': 'Feature',\n",
       " 'geometry': {'type': 'Point', 'coordinates': [-92.908333, 44.789444]},\n",
       " 'properties': {'FacName': '3M COTTAGE GROVE CENTER',\n",
       "  'FacStreet': '10746 INNOVATION ROAD',\n",
       "  'FacCity': 'COTTAGE GROVE',\n",
       "  'FacState': 'MN',\n",
       "  'RegistryID': '110000423667',\n",
       "  'FacSNCFlg': 'Y',\n",
       "  'FacQtrsWithNC': 12,\n",
       "  'FacInspectionCount': 22,\n",
       "  'FacFormalActionCount': 3,\n",
       "  'FacMapFlg': 'Y',\n",
       "  'SupOver80CountUsDisp': '0'}}"
      ]
     },
     "execution_count": 6,
     "metadata": {},
     "output_type": "execute_result"
    }
   ],
   "source": [
    "collection = db[\"jsonfile_sig_vio\"]  # Replace \"your_collection_name\" with your preferred collection name\n",
    "\n",
    "# Step 2: Load GeoJSON data from the file\n",
    "with open(\"Cleaned_Data/ECHO_Database_MN_SigViolations.geojson\", \"r\") as file:\n",
    "    data = json.load(file)\n",
    "\n",
    "# Step 3: Extract the 'features' array from the GeoJSON data\n",
    "features = data.get(\"features\", [])\n",
    "\n",
    "# Step 4: Insert each feature into MongoDB\n",
    "for feature in features:\n",
    "    collection.insert_one(feature)\n",
    "\n",
    "db['jsonfile_sig_vio'].find_one()"
   ]
  },
  {
   "cell_type": "code",
   "execution_count": null,
   "id": "3e631ef4",
   "metadata": {},
   "outputs": [],
   "source": []
  },
  {
   "cell_type": "code",
   "execution_count": null,
   "id": "4e5fb056",
   "metadata": {},
   "outputs": [],
   "source": []
  },
  {
   "cell_type": "code",
   "execution_count": 7,
   "id": "49569105",
   "metadata": {},
   "outputs": [],
   "source": [
    "\n",
    "# Close the MongoDB connection\n",
    "client.close()"
   ]
  },
  {
   "cell_type": "code",
   "execution_count": null,
   "id": "c588e480",
   "metadata": {},
   "outputs": [],
   "source": []
  },
  {
   "cell_type": "code",
   "execution_count": null,
   "id": "05ad61b9",
   "metadata": {},
   "outputs": [],
   "source": []
  }
 ],
 "metadata": {
  "kernelspec": {
   "display_name": "Python 3 (ipykernel)",
   "language": "python",
   "name": "python3"
  },
  "language_info": {
   "codemirror_mode": {
    "name": "ipython",
    "version": 3
   },
   "file_extension": ".py",
   "mimetype": "text/x-python",
   "name": "python",
   "nbconvert_exporter": "python",
   "pygments_lexer": "ipython3",
   "version": "3.9.13"
  }
 },
 "nbformat": 4,
 "nbformat_minor": 5
}
