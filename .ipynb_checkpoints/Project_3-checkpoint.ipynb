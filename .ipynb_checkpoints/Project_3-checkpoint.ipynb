{
 "cells": [
  {
   "cell_type": "code",
   "execution_count": 1,
   "id": "461eb173",
   "metadata": {},
   "outputs": [],
   "source": [
    "# importing the dependencies\n",
    "import pandas as pd\n",
    "import numpy\n"
   ]
  },
  {
   "cell_type": "code",
   "execution_count": 2,
   "id": "8a6374f8",
   "metadata": {},
   "outputs": [
    {
     "data": {
      "text/html": [
       "<div>\n",
       "<style scoped>\n",
       "    .dataframe tbody tr th:only-of-type {\n",
       "        vertical-align: middle;\n",
       "    }\n",
       "\n",
       "    .dataframe tbody tr th {\n",
       "        vertical-align: top;\n",
       "    }\n",
       "\n",
       "    .dataframe thead th {\n",
       "        text-align: right;\n",
       "    }\n",
       "</style>\n",
       "<table border=\"1\" class=\"dataframe\">\n",
       "  <thead>\n",
       "    <tr style=\"text-align: right;\">\n",
       "      <th></th>\n",
       "      <th>Cancer header</th>\n",
       "      <th>County</th>\n",
       "      <th>County population</th>\n",
       "      <th>Note</th>\n",
       "      <th>Rate</th>\n",
       "      <th>Cancer type</th>\n",
       "      <th>Sex</th>\n",
       "    </tr>\n",
       "  </thead>\n",
       "  <tbody>\n",
       "    <tr>\n",
       "      <th>0</th>\n",
       "      <td>All cancer types combined</td>\n",
       "      <td>Mower</td>\n",
       "      <td>39,807</td>\n",
       "      <td>NaN</td>\n",
       "      <td>410.7</td>\n",
       "      <td>All cancer types combined</td>\n",
       "      <td>Everyone</td>\n",
       "    </tr>\n",
       "    <tr>\n",
       "      <th>1</th>\n",
       "      <td>All cancer types combined</td>\n",
       "      <td>Todd</td>\n",
       "      <td>24,494</td>\n",
       "      <td>NaN</td>\n",
       "      <td>414.3</td>\n",
       "      <td>All cancer types combined</td>\n",
       "      <td>Everyone</td>\n",
       "    </tr>\n",
       "    <tr>\n",
       "      <th>2</th>\n",
       "      <td>All cancer types combined</td>\n",
       "      <td>Fillmore</td>\n",
       "      <td>20,949</td>\n",
       "      <td>NaN</td>\n",
       "      <td>416.5</td>\n",
       "      <td>All cancer types combined</td>\n",
       "      <td>Everyone</td>\n",
       "    </tr>\n",
       "    <tr>\n",
       "      <th>3</th>\n",
       "      <td>All cancer types combined</td>\n",
       "      <td>Lac qui Parle</td>\n",
       "      <td>6,719</td>\n",
       "      <td>NaN</td>\n",
       "      <td>422.4</td>\n",
       "      <td>All cancer types combined</td>\n",
       "      <td>Everyone</td>\n",
       "    </tr>\n",
       "    <tr>\n",
       "      <th>4</th>\n",
       "      <td>All cancer types combined</td>\n",
       "      <td>Koochiching</td>\n",
       "      <td>12,515</td>\n",
       "      <td>NaN</td>\n",
       "      <td>422.7</td>\n",
       "      <td>All cancer types combined</td>\n",
       "      <td>Everyone</td>\n",
       "    </tr>\n",
       "  </tbody>\n",
       "</table>\n",
       "</div>"
      ],
      "text/plain": [
       "               Cancer header         County County population  Note   Rate  \\\n",
       "0  All cancer types combined          Mower            39,807   NaN  410.7   \n",
       "1  All cancer types combined           Todd            24,494   NaN  414.3   \n",
       "2  All cancer types combined       Fillmore            20,949   NaN  416.5   \n",
       "3  All cancer types combined  Lac qui Parle             6,719   NaN  422.4   \n",
       "4  All cancer types combined    Koochiching            12,515   NaN  422.7   \n",
       "\n",
       "                 Cancer type       Sex  \n",
       "0  All cancer types combined  Everyone  \n",
       "1  All cancer types combined  Everyone  \n",
       "2  All cancer types combined  Everyone  \n",
       "3  All cancer types combined  Everyone  \n",
       "4  All cancer types combined  Everyone  "
      ]
     },
     "execution_count": 2,
     "metadata": {},
     "output_type": "execute_result"
    }
   ],
   "source": [
    "# Making the dataframe to inspect the data\n",
    "df_cancer = pd.read_csv(\"Data/Countytable.csv\")\n",
    "df_cancer.head()"
   ]
  },
  {
   "cell_type": "code",
   "execution_count": 3,
   "id": "0bb97db7",
   "metadata": {},
   "outputs": [
    {
     "data": {
      "text/html": [
       "<div>\n",
       "<style scoped>\n",
       "    .dataframe tbody tr th:only-of-type {\n",
       "        vertical-align: middle;\n",
       "    }\n",
       "\n",
       "    .dataframe tbody tr th {\n",
       "        vertical-align: top;\n",
       "    }\n",
       "\n",
       "    .dataframe thead th {\n",
       "        text-align: right;\n",
       "    }\n",
       "</style>\n",
       "<table border=\"1\" class=\"dataframe\">\n",
       "  <thead>\n",
       "    <tr style=\"text-align: right;\">\n",
       "      <th></th>\n",
       "      <th>County</th>\n",
       "      <th>County population</th>\n",
       "      <th>Rate</th>\n",
       "    </tr>\n",
       "  </thead>\n",
       "  <tbody>\n",
       "    <tr>\n",
       "      <th>0</th>\n",
       "      <td>Mower</td>\n",
       "      <td>39,807</td>\n",
       "      <td>410.7</td>\n",
       "    </tr>\n",
       "    <tr>\n",
       "      <th>1</th>\n",
       "      <td>Todd</td>\n",
       "      <td>24,494</td>\n",
       "      <td>414.3</td>\n",
       "    </tr>\n",
       "    <tr>\n",
       "      <th>2</th>\n",
       "      <td>Fillmore</td>\n",
       "      <td>20,949</td>\n",
       "      <td>416.5</td>\n",
       "    </tr>\n",
       "    <tr>\n",
       "      <th>3</th>\n",
       "      <td>Lac qui Parle</td>\n",
       "      <td>6,719</td>\n",
       "      <td>422.4</td>\n",
       "    </tr>\n",
       "    <tr>\n",
       "      <th>4</th>\n",
       "      <td>Koochiching</td>\n",
       "      <td>12,515</td>\n",
       "      <td>422.7</td>\n",
       "    </tr>\n",
       "  </tbody>\n",
       "</table>\n",
       "</div>"
      ],
      "text/plain": [
       "          County County population   Rate\n",
       "0          Mower            39,807  410.7\n",
       "1           Todd            24,494  414.3\n",
       "2       Fillmore            20,949  416.5\n",
       "3  Lac qui Parle             6,719  422.4\n",
       "4    Koochiching            12,515  422.7"
      ]
     },
     "execution_count": 3,
     "metadata": {},
     "output_type": "execute_result"
    }
   ],
   "source": [
    "# getting rid of some columns and renaming some columns\n",
    "df_cancer.drop([\"Cancer header\", \"Note\",\"Cancer type\",\"Sex\"], axis = 1,inplace = True)\n",
    "df_cancer.head()\n"
   ]
  },
  {
   "cell_type": "code",
   "execution_count": 4,
   "id": "d205f183",
   "metadata": {},
   "outputs": [
    {
     "data": {
      "text/html": [
       "<div>\n",
       "<style scoped>\n",
       "    .dataframe tbody tr th:only-of-type {\n",
       "        vertical-align: middle;\n",
       "    }\n",
       "\n",
       "    .dataframe tbody tr th {\n",
       "        vertical-align: top;\n",
       "    }\n",
       "\n",
       "    .dataframe thead th {\n",
       "        text-align: right;\n",
       "    }\n",
       "</style>\n",
       "<table border=\"1\" class=\"dataframe\">\n",
       "  <thead>\n",
       "    <tr style=\"text-align: right;\">\n",
       "      <th></th>\n",
       "      <th>County</th>\n",
       "      <th>County population</th>\n",
       "      <th>Rate per 100,000</th>\n",
       "    </tr>\n",
       "  </thead>\n",
       "  <tbody>\n",
       "    <tr>\n",
       "      <th>0</th>\n",
       "      <td>Mower</td>\n",
       "      <td>39,807</td>\n",
       "      <td>410.7</td>\n",
       "    </tr>\n",
       "    <tr>\n",
       "      <th>1</th>\n",
       "      <td>Todd</td>\n",
       "      <td>24,494</td>\n",
       "      <td>414.3</td>\n",
       "    </tr>\n",
       "    <tr>\n",
       "      <th>2</th>\n",
       "      <td>Fillmore</td>\n",
       "      <td>20,949</td>\n",
       "      <td>416.5</td>\n",
       "    </tr>\n",
       "    <tr>\n",
       "      <th>3</th>\n",
       "      <td>Lac qui Parle</td>\n",
       "      <td>6,719</td>\n",
       "      <td>422.4</td>\n",
       "    </tr>\n",
       "    <tr>\n",
       "      <th>4</th>\n",
       "      <td>Koochiching</td>\n",
       "      <td>12,515</td>\n",
       "      <td>422.7</td>\n",
       "    </tr>\n",
       "  </tbody>\n",
       "</table>\n",
       "</div>"
      ],
      "text/plain": [
       "          County County population  Rate per 100,000\n",
       "0          Mower            39,807             410.7\n",
       "1           Todd            24,494             414.3\n",
       "2       Fillmore            20,949             416.5\n",
       "3  Lac qui Parle             6,719             422.4\n",
       "4    Koochiching            12,515             422.7"
      ]
     },
     "execution_count": 4,
     "metadata": {},
     "output_type": "execute_result"
    }
   ],
   "source": [
    "df_cancer = df_cancer.rename(columns = {\"Rate\": \"Rate per 100,000\"})\n",
    "df_cancer.head()"
   ]
  },
  {
   "cell_type": "code",
   "execution_count": 5,
   "id": "631255ea",
   "metadata": {},
   "outputs": [
    {
     "data": {
      "text/html": [
       "<div>\n",
       "<style scoped>\n",
       "    .dataframe tbody tr th:only-of-type {\n",
       "        vertical-align: middle;\n",
       "    }\n",
       "\n",
       "    .dataframe tbody tr th {\n",
       "        vertical-align: top;\n",
       "    }\n",
       "\n",
       "    .dataframe thead th {\n",
       "        text-align: right;\n",
       "    }\n",
       "</style>\n",
       "<table border=\"1\" class=\"dataframe\">\n",
       "  <thead>\n",
       "    <tr style=\"text-align: right;\">\n",
       "      <th></th>\n",
       "      <th>County</th>\n",
       "      <th>County population</th>\n",
       "      <th>Rate per 100,000</th>\n",
       "    </tr>\n",
       "  </thead>\n",
       "  <tbody>\n",
       "    <tr>\n",
       "      <th>26</th>\n",
       "      <td>Aitkin</td>\n",
       "      <td>15,834</td>\n",
       "      <td>449.5</td>\n",
       "    </tr>\n",
       "    <tr>\n",
       "      <th>64</th>\n",
       "      <td>Anoka</td>\n",
       "      <td>350,253</td>\n",
       "      <td>486.5</td>\n",
       "    </tr>\n",
       "    <tr>\n",
       "      <th>69</th>\n",
       "      <td>Becker</td>\n",
       "      <td>34,011</td>\n",
       "      <td>491.9</td>\n",
       "    </tr>\n",
       "    <tr>\n",
       "      <th>70</th>\n",
       "      <td>Beltrami</td>\n",
       "      <td>46,403</td>\n",
       "      <td>492.3</td>\n",
       "    </tr>\n",
       "    <tr>\n",
       "      <th>7</th>\n",
       "      <td>Benton</td>\n",
       "      <td>40,129</td>\n",
       "      <td>428.1</td>\n",
       "    </tr>\n",
       "  </tbody>\n",
       "</table>\n",
       "</div>"
      ],
      "text/plain": [
       "      County County population  Rate per 100,000\n",
       "26    Aitkin            15,834             449.5\n",
       "64     Anoka           350,253             486.5\n",
       "69    Becker            34,011             491.9\n",
       "70  Beltrami            46,403             492.3\n",
       "7     Benton            40,129             428.1"
      ]
     },
     "execution_count": 5,
     "metadata": {},
     "output_type": "execute_result"
    }
   ],
   "source": [
    "# sort by county name \n",
    "df_cancer.sort_values(by = \"County\",inplace = True)\n",
    "df_cancer.head()"
   ]
  },
  {
   "cell_type": "code",
   "execution_count": 6,
   "id": "0d515a92",
   "metadata": {},
   "outputs": [
    {
     "data": {
      "text/html": [
       "<div>\n",
       "<style scoped>\n",
       "    .dataframe tbody tr th:only-of-type {\n",
       "        vertical-align: middle;\n",
       "    }\n",
       "\n",
       "    .dataframe tbody tr th {\n",
       "        vertical-align: top;\n",
       "    }\n",
       "\n",
       "    .dataframe thead th {\n",
       "        text-align: right;\n",
       "    }\n",
       "</style>\n",
       "<table border=\"1\" class=\"dataframe\">\n",
       "  <thead>\n",
       "    <tr style=\"text-align: right;\">\n",
       "      <th></th>\n",
       "      <th>County</th>\n",
       "      <th>County population</th>\n",
       "      <th>Rate per 100,000</th>\n",
       "    </tr>\n",
       "  </thead>\n",
       "  <tbody>\n",
       "    <tr>\n",
       "      <th>0</th>\n",
       "      <td>Aitkin</td>\n",
       "      <td>15,834</td>\n",
       "      <td>449.5</td>\n",
       "    </tr>\n",
       "    <tr>\n",
       "      <th>1</th>\n",
       "      <td>Anoka</td>\n",
       "      <td>350,253</td>\n",
       "      <td>486.5</td>\n",
       "    </tr>\n",
       "    <tr>\n",
       "      <th>2</th>\n",
       "      <td>Becker</td>\n",
       "      <td>34,011</td>\n",
       "      <td>491.9</td>\n",
       "    </tr>\n",
       "    <tr>\n",
       "      <th>3</th>\n",
       "      <td>Beltrami</td>\n",
       "      <td>46,403</td>\n",
       "      <td>492.3</td>\n",
       "    </tr>\n",
       "    <tr>\n",
       "      <th>4</th>\n",
       "      <td>Benton</td>\n",
       "      <td>40,129</td>\n",
       "      <td>428.1</td>\n",
       "    </tr>\n",
       "  </tbody>\n",
       "</table>\n",
       "</div>"
      ],
      "text/plain": [
       "     County County population  Rate per 100,000\n",
       "0    Aitkin            15,834             449.5\n",
       "1     Anoka           350,253             486.5\n",
       "2    Becker            34,011             491.9\n",
       "3  Beltrami            46,403             492.3\n",
       "4    Benton            40,129             428.1"
      ]
     },
     "execution_count": 6,
     "metadata": {},
     "output_type": "execute_result"
    }
   ],
   "source": [
    "# setting the index\n",
    "df_cancer.reset_index(drop= True, inplace = True)\n",
    "df_cancer.head()"
   ]
  },
  {
   "cell_type": "code",
   "execution_count": 7,
   "id": "664d2e23",
   "metadata": {},
   "outputs": [
    {
     "data": {
      "text/plain": [
       "County               0\n",
       "County population    0\n",
       "Rate per 100,000     0\n",
       "dtype: int64"
      ]
     },
     "execution_count": 7,
     "metadata": {},
     "output_type": "execute_result"
    }
   ],
   "source": [
    "# checking for null values\n",
    "df_cancer.isnull().sum()"
   ]
  },
  {
   "cell_type": "code",
   "execution_count": 8,
   "id": "7351b2c6",
   "metadata": {},
   "outputs": [
    {
     "data": {
      "text/plain": [
       "0     False\n",
       "1     False\n",
       "2     False\n",
       "3     False\n",
       "4     False\n",
       "      ...  \n",
       "83    False\n",
       "84    False\n",
       "85    False\n",
       "86    False\n",
       "87    False\n",
       "Length: 88, dtype: bool"
      ]
     },
     "execution_count": 8,
     "metadata": {},
     "output_type": "execute_result"
    }
   ],
   "source": [
    "df_cancer.duplicated()"
   ]
  },
  {
   "cell_type": "code",
   "execution_count": 9,
   "id": "a8fd4872",
   "metadata": {},
   "outputs": [
    {
     "data": {
      "text/plain": [
       "County                object\n",
       "County population     object\n",
       "Rate per 100,000     float64\n",
       "dtype: object"
      ]
     },
     "execution_count": 9,
     "metadata": {},
     "output_type": "execute_result"
    }
   ],
   "source": [
    "df_cancer.dtypes"
   ]
  },
  {
   "cell_type": "code",
   "execution_count": 10,
   "id": "7ea99a31",
   "metadata": {},
   "outputs": [],
   "source": [
    "# jsonify the dataframe\n",
    "#importing the dependencies\n",
    "import json\n",
    "from json import loads, dumps"
   ]
  },
  {
   "cell_type": "code",
   "execution_count": 11,
   "id": "3429c7b5",
   "metadata": {},
   "outputs": [
    {
     "data": {
      "text/plain": [
       "'[{\"County\":\"Aitkin\",\"County population\":\"15,834\",\"Rate per 100,000\":449.5},{\"County\":\"Anoka\",\"County population\":\"350,253\",\"Rate per 100,000\":486.5},{\"County\":\"Becker\",\"County population\":\"34,011\",\"Rate per 100,000\":491.9},{\"County\":\"Beltrami\",\"County population\":\"46,403\",\"Rate per 100,000\":492.3},{\"County\":\"Benton\",\"County population\":\"40,129\",\"Rate per 100,000\":428.1},{\"County\":\"Big Stone\",\"County population\":\"4,996\",\"Rate per 100,000\":466.2},{\"County\":\"Blue Earth\",\"County population\":\"66,795\",\"Rate per 100,000\":456.3},{\"County\":\"Brown\",\"County population\":\"25,163\",\"Rate per 100,000\":496.8},{\"County\":\"Carlton\",\"County population\":\"35,633\",\"Rate per 100,000\":466.7},{\"County\":\"Carver\",\"County population\":\"101,949\",\"Rate per 100,000\":452.1},{\"County\":\"Cass\",\"County population\":\"29,268\",\"Rate per 100,000\":493.3},{\"County\":\"Chippewa\",\"County population\":\"11,953\",\"Rate per 100,000\":536.9},{\"County\":\"Chisago\",\"County population\":\"55,315\",\"Rate per 100,000\":472.0},{\"County\":\"Clay\",\"County population\":\"63,446\",\"Rate per 100,000\":508.6},{\"County\":\"Clearwater\",\"County population\":\"8,821\",\"Rate per 100,000\":455.8},{\"County\":\"Cook\",\"County population\":\"5,376\",\"Rate per 100,000\":444.8},{\"County\":\"Cottonwood\",\"County population\":\"11,299\",\"Rate per 100,000\":453.1},{\"County\":\"Crow Wing\",\"County population\":\"64,217\",\"Rate per 100,000\":491.1},{\"County\":\"Dakota\",\"County population\":\"421,453\",\"Rate per 100,000\":484.7},{\"County\":\"Dodge\",\"County population\":\"20,669\",\"Rate per 100,000\":426.1},{\"County\":\"Douglas\",\"County population\":\"37,513\",\"Rate per 100,000\":478.8},{\"County\":\"Faribault\",\"County population\":\"13,801\",\"Rate per 100,000\":477.7},{\"County\":\"Fillmore\",\"County population\":\"20,949\",\"Rate per 100,000\":416.5},{\"County\":\"Freeborn\",\"County population\":\"30,463\",\"Rate per 100,000\":434.5},{\"County\":\"Goodhue\",\"County population\":\"46,246\",\"Rate per 100,000\":444.9},{\"County\":\"Grant\",\"County population\":\"5,935\",\"Rate per 100,000\":482.7},{\"County\":\"Hennepin\",\"County population\":\"1,245,837\",\"Rate per 100,000\":447.0},{\"County\":\"Houston\",\"County population\":\"18,648\",\"Rate per 100,000\":436.4},{\"County\":\"Hubbard\",\"County population\":\"21,019\",\"Rate per 100,000\":489.9},{\"County\":\"Isanti\",\"County population\":\"39,430\",\"Rate per 100,000\":489.9},{\"County\":\"Itasca\",\"County population\":\"45,141\",\"Rate per 100,000\":484.1},{\"County\":\"Jackson\",\"County population\":\"9,954\",\"Rate per 100,000\":463.5},{\"County\":\"Kanabec\",\"County population\":\"16,089\",\"Rate per 100,000\":443.6},{\"County\":\"Kandiyohi\",\"County population\":\"42,841\",\"Rate per 100,000\":486.3},{\"County\":\"Kittson\",\"County population\":\"4,311\",\"Rate per 100,000\":455.2},{\"County\":\"Koochiching\",\"County population\":\"12,515\",\"Rate per 100,000\":422.7},{\"County\":\"Lac qui Parle\",\"County population\":\"6,719\",\"Rate per 100,000\":422.4},{\"County\":\"Lake\",\"County population\":\"10,560\",\"Rate per 100,000\":521.7},{\"County\":\"Lake of the Woods\",\"County population\":\"3,771\",\"Rate per 100,000\":435.5},{\"County\":\"Le Sueur\",\"County population\":\"28,242\",\"Rate per 100,000\":479.4},{\"County\":\"Lincoln\",\"County population\":\"5,677\",\"Rate per 100,000\":561.3},{\"County\":\"Lyon\",\"County population\":\"25,757\",\"Rate per 100,000\":469.7},{\"County\":\"Mahnomen\",\"County population\":\"5,501\",\"Rate per 100,000\":519.2},{\"County\":\"Marshall\",\"County population\":\"9,372\",\"Rate per 100,000\":513.3},{\"County\":\"Martin\",\"County population\":\"19,852\",\"Rate per 100,000\":453.2},{\"County\":\"McLeod\",\"County population\":\"35,832\",\"Rate per 100,000\":459.6},{\"County\":\"Meeker\",\"County population\":\"23,105\",\"Rate per 100,000\":457.6},{\"County\":\"Mille Lacs\",\"County population\":\"25,865\",\"Rate per 100,000\":469.5},{\"County\":\"Minnesota\",\"County population\":\"5,563,377\",\"Rate per 100,000\":463.8},{\"County\":\"Morrison\",\"County population\":\"33,064\",\"Rate per 100,000\":483.9},{\"County\":\"Mower\",\"County population\":\"39,807\",\"Rate per 100,000\":410.7},{\"County\":\"Murray\",\"County population\":\"8,296\",\"Rate per 100,000\":449.4},{\"County\":\"Nicollet\",\"County population\":\"33,954\",\"Rate per 100,000\":459.5},{\"County\":\"Nobles\",\"County population\":\"21,734\",\"Rate per 100,000\":451.2},{\"County\":\"Norman\",\"County population\":\"6,520\",\"Rate per 100,000\":510.5},{\"County\":\"Olmsted\",\"County population\":\"154,809\",\"Rate per 100,000\":437.4},{\"County\":\"Otter Tail\",\"County population\":\"58,195\",\"Rate per 100,000\":476.3},{\"County\":\"Pennington\",\"County population\":\"14,183\",\"Rate per 100,000\":428.1},{\"County\":\"Pine\",\"County population\":\"29,223\",\"Rate per 100,000\":444.9},{\"County\":\"Pipestone\",\"County population\":\"9,191\",\"Rate per 100,000\":519.2},{\"County\":\"Polk\",\"County population\":\"31,521\",\"Rate per 100,000\":492.5},{\"County\":\"Pope\",\"County population\":\"11,048\",\"Rate per 100,000\":448.2},{\"County\":\"Ramsey\",\"County population\":\"544,442\",\"Rate per 100,000\":466.7},{\"County\":\"Red Lake\",\"County population\":\"4,015\",\"Rate per 100,000\":529.1},{\"County\":\"Redwood\",\"County population\":\"15,261\",\"Rate per 100,000\":449.7},{\"County\":\"Renville\",\"County population\":\"14,652\",\"Rate per 100,000\":518.1},{\"County\":\"Rice\",\"County population\":\"66,185\",\"Rate per 100,000\":442.8},{\"County\":\"Rock\",\"County population\":\"9,402\",\"Rate per 100,000\":451.6},{\"County\":\"Roseau\",\"County population\":\"15,361\",\"Rate per 100,000\":456.5},{\"County\":\"Scott\",\"County population\":\"145,275\",\"Rate per 100,000\":461.7},{\"County\":\"Sherburne\",\"County population\":\"94,463\",\"Rate per 100,000\":467.6},{\"County\":\"Sibley\",\"County population\":\"14,892\",\"Rate per 100,000\":491.7},{\"County\":\"St. Louis\",\"County population\":\"199,759\",\"Rate per 100,000\":492.4},{\"County\":\"Stearns\",\"County population\":\"158,452\",\"Rate per 100,000\":433.3},{\"County\":\"Steele\",\"County population\":\"36,683\",\"Rate per 100,000\":441.9},{\"County\":\"Stevens\",\"County population\":\"9,789\",\"Rate per 100,000\":426.3},{\"County\":\"Swift\",\"County population\":\"9,359\",\"Rate per 100,000\":429.3},{\"County\":\"Todd\",\"County population\":\"24,494\",\"Rate per 100,000\":414.3},{\"County\":\"Traverse\",\"County population\":\"3,311\",\"Rate per 100,000\":569.6},{\"County\":\"Wabasha\",\"County population\":\"21,537\",\"Rate per 100,000\":430.4},{\"County\":\"Wadena\",\"County population\":\"13,654\",\"Rate per 100,000\":475.2},{\"County\":\"Waseca\",\"County population\":\"18,740\",\"Rate per 100,000\":459.9},{\"County\":\"Washington\",\"County population\":\"255,938\",\"Rate per 100,000\":486.3},{\"County\":\"Watonwan\",\"County population\":\"10,972\",\"Rate per 100,000\":445.3},{\"County\":\"Wilkin\",\"County population\":\"6,291\",\"Rate per 100,000\":522.6},{\"County\":\"Winona\",\"County population\":\"50,725\",\"Rate per 100,000\":461.2},{\"County\":\"Wright\",\"County population\":\"134,438\",\"Rate per 100,000\":450.5},{\"County\":\"Yellow Medicine\",\"County population\":\"9,814\",\"Rate per 100,000\":503.8}]'"
      ]
     },
     "execution_count": 11,
     "metadata": {},
     "output_type": "execute_result"
    }
   ],
   "source": [
    "result = df_cancer.to_json(orient ='records')\n",
    "result"
   ]
  },
  {
   "cell_type": "code",
   "execution_count": 12,
   "id": "03a67ba1",
   "metadata": {},
   "outputs": [],
   "source": [
    "df_cancer.to_json('Output/cancer.json(2015-2019)', orient='records', lines=True)"
   ]
  },
  {
   "cell_type": "code",
   "execution_count": 13,
   "id": "977372d2",
   "metadata": {},
   "outputs": [
    {
     "data": {
      "text/html": [
       "<div>\n",
       "<style scoped>\n",
       "    .dataframe tbody tr th:only-of-type {\n",
       "        vertical-align: middle;\n",
       "    }\n",
       "\n",
       "    .dataframe tbody tr th {\n",
       "        vertical-align: top;\n",
       "    }\n",
       "\n",
       "    .dataframe thead th {\n",
       "        text-align: right;\n",
       "    }\n",
       "</style>\n",
       "<table border=\"1\" class=\"dataframe\">\n",
       "  <thead>\n",
       "    <tr style=\"text-align: right;\">\n",
       "      <th></th>\n",
       "      <th>FIPS</th>\n",
       "      <th>State</th>\n",
       "      <th>County</th>\n",
       "      <th>Z-Score</th>\n",
       "      <th>Rank</th>\n",
       "      <th>Z-Score.1</th>\n",
       "      <th>Rank.1</th>\n",
       "    </tr>\n",
       "  </thead>\n",
       "  <tbody>\n",
       "    <tr>\n",
       "      <th>0</th>\n",
       "      <td>NaN</td>\n",
       "      <td>NaN</td>\n",
       "      <td>NaN</td>\n",
       "      <td>NaN</td>\n",
       "      <td>NaN</td>\n",
       "      <td>NaN</td>\n",
       "      <td>NaN</td>\n",
       "    </tr>\n",
       "    <tr>\n",
       "      <th>1</th>\n",
       "      <td>27001.0</td>\n",
       "      <td>Minnesota</td>\n",
       "      <td>Aitkin</td>\n",
       "      <td>0.431450</td>\n",
       "      <td>69.0</td>\n",
       "      <td>0.761015</td>\n",
       "      <td>82.0</td>\n",
       "    </tr>\n",
       "    <tr>\n",
       "      <th>2</th>\n",
       "      <td>27003.0</td>\n",
       "      <td>Minnesota</td>\n",
       "      <td>Anoka</td>\n",
       "      <td>-0.426424</td>\n",
       "      <td>23.0</td>\n",
       "      <td>-0.413081</td>\n",
       "      <td>17.0</td>\n",
       "    </tr>\n",
       "    <tr>\n",
       "      <th>3</th>\n",
       "      <td>27005.0</td>\n",
       "      <td>Minnesota</td>\n",
       "      <td>Becker</td>\n",
       "      <td>0.472333</td>\n",
       "      <td>71.0</td>\n",
       "      <td>0.169356</td>\n",
       "      <td>63.0</td>\n",
       "    </tr>\n",
       "    <tr>\n",
       "      <th>4</th>\n",
       "      <td>27007.0</td>\n",
       "      <td>Minnesota</td>\n",
       "      <td>Beltrami</td>\n",
       "      <td>1.717782</td>\n",
       "      <td>86.0</td>\n",
       "      <td>0.763052</td>\n",
       "      <td>83.0</td>\n",
       "    </tr>\n",
       "  </tbody>\n",
       "</table>\n",
       "</div>"
      ],
      "text/plain": [
       "      FIPS      State    County   Z-Score  Rank  Z-Score.1  Rank.1\n",
       "0      NaN        NaN       NaN       NaN   NaN        NaN     NaN\n",
       "1  27001.0  Minnesota    Aitkin  0.431450  69.0   0.761015    82.0\n",
       "2  27003.0  Minnesota     Anoka -0.426424  23.0  -0.413081    17.0\n",
       "3  27005.0  Minnesota    Becker  0.472333  71.0   0.169356    63.0\n",
       "4  27007.0  Minnesota  Beltrami  1.717782  86.0   0.763052    83.0"
      ]
     },
     "execution_count": 13,
     "metadata": {},
     "output_type": "execute_result"
    }
   ],
   "source": [
    "#reading the healthoutcome excel file \n",
    "df_healthoutcome = pd.read_excel(\"Data/HealthOutcomeAndFactors.xlsx\",header = 1)\n",
    "df_healthoutcome.head()"
   ]
  },
  {
   "cell_type": "code",
   "execution_count": null,
   "id": "615efc14",
   "metadata": {},
   "outputs": [],
   "source": [
    "#Renaming the columns\n",
    "df_healthoutcome.rename( columns = {\"Z-Score\":})"
   ]
  }
 ],
 "metadata": {
  "kernelspec": {
   "display_name": "Python 3 (ipykernel)",
   "language": "python",
   "name": "python3"
  },
  "language_info": {
   "codemirror_mode": {
    "name": "ipython",
    "version": 3
   },
   "file_extension": ".py",
   "mimetype": "text/x-python",
   "name": "python",
   "nbconvert_exporter": "python",
   "pygments_lexer": "ipython3",
   "version": "3.10.9"
  }
 },
 "nbformat": 4,
 "nbformat_minor": 5
}
