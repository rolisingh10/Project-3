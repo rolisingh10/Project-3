{
 "cells": [
  {
   "cell_type": "code",
   "execution_count": 1,
   "id": "461eb173",
   "metadata": {},
   "outputs": [],
   "source": [
    "# importing the dependencies\n",
    "import pandas as pd\n",
    "import numpy\n"
   ]
  },
  {
   "cell_type": "code",
   "execution_count": 2,
   "id": "8a6374f8",
   "metadata": {},
   "outputs": [],
   "source": [
    "# Making the dataframe to inspect the data\n",
    "df_cancer = pd.read_csv(\"Data/Countytable.csv\")\n",
    "df_cancer.head()"
   ]
  },
  {
   "cell_type": "code",
   "execution_count": 3,
   "id": "0bb97db7",
   "metadata": {},
   "outputs": [],
   "source": [
    "# getting rid of some columns and renaming some columns\n",
    "df_cancer.drop([\"Cancer header\", \"Note\",\"Cancer type\",\"Sex\"], axis = 1,inplace = True)\n",
    "df_cancer.head()\n"
   ]
  },
  {
   "cell_type": "code",
   "execution_count": 4,
   "id": "d205f183",
   "metadata": {},
   "outputs": [],
   "source": [
    "df_cancer = df_cancer.rename(columns = {\"Rate\": \"Rate per 100,000\"})\n",
    "df_cancer.head()"
   ]
  },
  {
   "cell_type": "code",
   "execution_count": 5,
   "id": "631255ea",
   "metadata": {},
   "outputs": [],
   "source": [
    "# sort by county name \n",
    "df_cancer.sort_values(by = \"County\",inplace = True)\n",
    "df_cancer.head()"
   ]
  },
  {
   "cell_type": "code",
   "execution_count": 6,
   "id": "0d515a92",
   "metadata": {},
   "outputs": [],
   "source": [
    "# setting the index\n",
    "df_cancer.reset_index(drop= True, inplace = True)\n",
    "df_cancer.head()"
   ]
  },
  {
   "cell_type": "code",
   "execution_count": 7,
   "id": "664d2e23",
   "metadata": {},
   "outputs": [],
   "source": [
    "# checking for null values\n",
    "df_cancer.isnull().sum()"
   ]
  },
  {
   "cell_type": "code",
   "execution_count": 8,
   "id": "7351b2c6",
   "metadata": {},
   "outputs": [],
   "source": [
    "df_cancer.duplicated()"
   ]
  },
  {
   "cell_type": "code",
   "execution_count": 9,
   "id": "a8fd4872",
   "metadata": {},
   "outputs": [],
   "source": [
    "df_cancer.dtypes"
   ]
  },
  {
   "cell_type": "code",
   "execution_count": 10,
   "id": "b479dc8b",
   "metadata": {},
   "outputs": [],
   "source": [
    "# change the datatype of county population to integer\n",
    "df_cancer['County population'] = df_cancer['County population'].str.replace(',', '').astype(float)\n",
    "#df_cancer[['County population']].apply(pd.to_numeric) \n",
    "#df_cancer.dtypes\n",
    "df_cancer.head()\n"
   ]
  },
  {
   "cell_type": "code",
   "execution_count": 11,
   "id": "d37a7947",
   "metadata": {},
   "outputs": [],
   "source": [
    "df_cancer.dtypes"
   ]
  },
  {
   "cell_type": "code",
   "execution_count": 12,
   "id": "7ea99a31",
   "metadata": {},
   "outputs": [],
   "source": [
    "# jsonify the dataframe\n",
    "#importing the dependencies\n",
    "import json\n",
    "from json import loads, dumps"
   ]
  },
  {
   "cell_type": "code",
   "execution_count": 13,
   "id": "3429c7b5",
   "metadata": {},
   "outputs": [],
   "source": [
    "result = df_cancer.to_json(orient ='records')\n",
    "result"
   ]
  },
  {
   "cell_type": "code",
   "execution_count": 14,
   "id": "03a67ba1",
   "metadata": {},
   "outputs": [],
   "source": [
    "df_cancer.to_json('Output/cancer(2015-2019).json', orient='records')"
   ]
  },
  {
   "cell_type": "code",
   "execution_count": 15,
   "id": "977372d2",
   "metadata": {},
   "outputs": [],
   "source": [
    "#reading the healthoutcome excel file \n",
    "df_healthoutcome = pd.read_excel(\"Data/HealthOutcomeAndFactors.xlsx\",header = 1)\n",
    "df_healthoutcome.head()"
   ]
  },
  {
   "cell_type": "code",
   "execution_count": 16,
   "id": "615efc14",
   "metadata": {},
   "outputs": [],
   "source": [
    "#Renaming the columns\n",
    "df_healthoutcome.rename( columns = {\"Z-Score\":\"HealthOutcome(Z-Score)\", \n",
    "                                    \"Rank\":\"HealthOutcome(Rank)\",\"Z-Score.1\":\"HealthFactor(Z-Score)\",\n",
    "                                    \"Rank.1\":\"HealthFactor(Rank)\"}, inplace = True)\n",
    "df_healthoutcome.head()"
   ]
  },
  {
   "cell_type": "code",
   "execution_count": 17,
   "id": "47c84990",
   "metadata": {},
   "outputs": [],
   "source": [
    "df_healthoutcome.drop(index = 0,inplace = True)\n",
    "df_healthoutcome.head()"
   ]
  },
  {
   "cell_type": "code",
   "execution_count": 18,
   "id": "2515dd90",
   "metadata": {},
   "outputs": [],
   "source": [
    "df_healthoutcome.reset_index( drop = True, inplace = True)\n",
    "df_healthoutcome.head()"
   ]
  },
  {
   "cell_type": "code",
   "execution_count": 19,
   "id": "edaebf3c",
   "metadata": {},
   "outputs": [],
   "source": [
    "df_healthoutcome.drop( columns = [\"State\"], inplace = True)\n",
    "df_healthoutcome.head()"
   ]
  },
  {
   "cell_type": "code",
   "execution_count": 20,
   "id": "29a90acd",
   "metadata": {},
   "outputs": [],
   "source": [
    "df_healthoutcome.to_json('Output/healthoutcome(2023).json', orient='records')"
   ]
  },
  {
   "cell_type": "code",
   "execution_count": 21,
   "id": "a7bb708d",
   "metadata": {},
   "outputs": [],
   "source": [
    "df_landPollution = pd.read_csv(\"Data/land_application_sites.csv\")\n",
    "df_landPollution.head()"
   ]
  },
  {
   "cell_type": "code",
   "execution_count": 22,
   "id": "6b55fcd0",
   "metadata": {},
   "outputs": [],
   "source": [
    "df_landPollution.columns"
   ]
  },
  {
   "cell_type": "code",
   "execution_count": 23,
   "id": "7490951e",
   "metadata": {},
   "outputs": [],
   "source": [
    "df_landPollution_clean = df_landPollution[['county','latitude', 'longitude','status','description']]\n",
    "df_landPollution_clean.head()"
   ]
  },
  {
   "cell_type": "code",
   "execution_count": 24,
   "id": "d4d1b2cb",
   "metadata": {},
   "outputs": [],
   "source": [
    "df_landPollution_clean.sort_values(\"county\", inplace = True)\n",
    "df_landPollution_clean.head()"
   ]
  },
  {
   "cell_type": "code",
   "execution_count": 25,
   "id": "10e2d994",
   "metadata": {},
   "outputs": [],
   "source": [
    "df_landPollution_clean.reset_index(drop = True, inplace = True)\n",
    "df_landPollution_clean.head()"
   ]
  },
  {
   "cell_type": "code",
   "execution_count": 26,
   "id": "a52205bb",
   "metadata": {},
   "outputs": [],
   "source": [
    "len(df_landPollution_clean)"
   ]
  },
  {
   "cell_type": "code",
   "execution_count": 27,
   "id": "2684d570",
   "metadata": {},
   "outputs": [],
   "source": [
    "# checking for null values\n",
    "df_landPollution_clean.isnull().sum()"
   ]
  },
  {
   "cell_type": "code",
   "execution_count": 28,
   "id": "92759a0d",
   "metadata": {},
   "outputs": [],
   "source": [
    "df_landPollution.tail(15)"
   ]
  },
  {
   "cell_type": "code",
   "execution_count": 29,
   "id": "ee0f4b9d",
   "metadata": {},
   "outputs": [],
   "source": [
    "df_landPollution_clean.dropna().head()"
   ]
  },
  {
   "cell_type": "code",
   "execution_count": 30,
   "id": "7a42b255",
   "metadata": {},
   "outputs": [],
   "source": [
    "df_json_landPollution = dict(df_landPollution_clean.set_index('county').groupby(level=0).apply(lambda  x : x.to_json(orient = 'records')))\n",
    "df_json_landPollution"
   ]
  },
  {
   "cell_type": "code",
   "execution_count": 31,
   "id": "0b9dfffc",
   "metadata": {},
   "outputs": [],
   "source": [
    "with open(\"Output/landPollution_sites.json\", \"w\",encoding=\"utf-8\") as outfile:\n",
    "    json.dump(df_json_landPollution, outfile, ensure_ascii=False)\n"
   ]
  },
  {
   "cell_type": "code",
   "execution_count": 32,
   "id": "9308dab0",
   "metadata": {},
   "outputs": [],
   "source": [
    "df_landPollution_clean.to_json('Output/landPollution_sites_test.json', orient='records')"
   ]
  },
  {
   "cell_type": "code",
   "execution_count": 5,
   "id": "4edd21ea",
   "metadata": {},
   "outputs": [
    {
     "data": {
      "text/html": [
       "<div>\n",
       "<style scoped>\n",
       "    .dataframe tbody tr th:only-of-type {\n",
       "        vertical-align: middle;\n",
       "    }\n",
       "\n",
       "    .dataframe tbody tr th {\n",
       "        vertical-align: top;\n",
       "    }\n",
       "\n",
       "    .dataframe thead th {\n",
       "        text-align: right;\n",
       "    }\n",
       "</style>\n",
       "<table border=\"1\" class=\"dataframe\">\n",
       "  <thead>\n",
       "    <tr style=\"text-align: right;\">\n",
       "      <th></th>\n",
       "      <th>__Outcome</th>\n",
       "      <th>__Year</th>\n",
       "      <th>_County</th>\n",
       "      <th>Age-adjusted rate per 10,000</th>\n",
       "      <th>Note</th>\n",
       "      <th>Count of cases</th>\n",
       "    </tr>\n",
       "  </thead>\n",
       "  <tbody>\n",
       "    <tr>\n",
       "      <th>0</th>\n",
       "      <td>Hospitalizations</td>\n",
       "      <td>2018-2020</td>\n",
       "      <td>Winona</td>\n",
       "      <td>0.5</td>\n",
       "      <td>Unstable rate due to small population</td>\n",
       "      <td>9</td>\n",
       "    </tr>\n",
       "    <tr>\n",
       "      <th>1</th>\n",
       "      <td>Hospitalizations</td>\n",
       "      <td>2018-2020</td>\n",
       "      <td>Todd</td>\n",
       "      <td>0.6</td>\n",
       "      <td>Unstable rate due to small population</td>\n",
       "      <td>7</td>\n",
       "    </tr>\n",
       "    <tr>\n",
       "      <th>2</th>\n",
       "      <td>Hospitalizations</td>\n",
       "      <td>2018-2020</td>\n",
       "      <td>Wright</td>\n",
       "      <td>1.1</td>\n",
       "      <td>NaN</td>\n",
       "      <td>45</td>\n",
       "    </tr>\n",
       "    <tr>\n",
       "      <th>3</th>\n",
       "      <td>Hospitalizations</td>\n",
       "      <td>2018-2020</td>\n",
       "      <td>Wabasha</td>\n",
       "      <td>1.1</td>\n",
       "      <td>Unstable rate due to small population</td>\n",
       "      <td>7</td>\n",
       "    </tr>\n",
       "    <tr>\n",
       "      <th>4</th>\n",
       "      <td>Hospitalizations</td>\n",
       "      <td>2018-2020</td>\n",
       "      <td>Waseca</td>\n",
       "      <td>1.1</td>\n",
       "      <td>Unstable rate due to small population</td>\n",
       "      <td>7</td>\n",
       "    </tr>\n",
       "  </tbody>\n",
       "</table>\n",
       "</div>"
      ],
      "text/plain": [
       "          __Outcome     __Year  _County Age-adjusted rate per 10,000  \\\n",
       "0  Hospitalizations  2018-2020   Winona                          0.5   \n",
       "1  Hospitalizations  2018-2020     Todd                          0.6   \n",
       "2  Hospitalizations  2018-2020   Wright                          1.1   \n",
       "3  Hospitalizations  2018-2020  Wabasha                          1.1   \n",
       "4  Hospitalizations  2018-2020   Waseca                          1.1   \n",
       "\n",
       "                                    Note Count of cases  \n",
       "0  Unstable rate due to small population              9  \n",
       "1  Unstable rate due to small population              7  \n",
       "2                                    NaN             45  \n",
       "3  Unstable rate due to small population              7  \n",
       "4  Unstable rate due to small population              7  "
      ]
     },
     "execution_count": 5,
     "metadata": {},
     "output_type": "execute_result"
    }
   ],
   "source": [
    "df_asthma = pd.read_csv(\"Data/MN-asthma-county.csv\")\n",
    "df_asthma.head()\n"
   ]
  },
  {
   "cell_type": "code",
   "execution_count": 6,
   "id": "d6c9c7a4",
   "metadata": {},
   "outputs": [
    {
     "data": {
      "text/plain": [
       "Index(['__Outcome', '__Year', '_County', 'Age-adjusted rate per 10,000',\n",
       "       'Note', 'Count of cases'],\n",
       "      dtype='object')"
      ]
     },
     "execution_count": 6,
     "metadata": {},
     "output_type": "execute_result"
    }
   ],
   "source": [
    "df_asthma.columns"
   ]
  },
  {
   "cell_type": "code",
   "execution_count": 7,
   "id": "e9e24442",
   "metadata": {},
   "outputs": [
    {
     "data": {
      "text/html": [
       "<div>\n",
       "<style scoped>\n",
       "    .dataframe tbody tr th:only-of-type {\n",
       "        vertical-align: middle;\n",
       "    }\n",
       "\n",
       "    .dataframe tbody tr th {\n",
       "        vertical-align: top;\n",
       "    }\n",
       "\n",
       "    .dataframe thead th {\n",
       "        text-align: right;\n",
       "    }\n",
       "</style>\n",
       "<table border=\"1\" class=\"dataframe\">\n",
       "  <thead>\n",
       "    <tr style=\"text-align: right;\">\n",
       "      <th></th>\n",
       "      <th>_County</th>\n",
       "      <th>Age-adjusted rate per 10,000</th>\n",
       "      <th>Count of cases</th>\n",
       "    </tr>\n",
       "  </thead>\n",
       "  <tbody>\n",
       "    <tr>\n",
       "      <th>0</th>\n",
       "      <td>Winona</td>\n",
       "      <td>0.5</td>\n",
       "      <td>9</td>\n",
       "    </tr>\n",
       "    <tr>\n",
       "      <th>1</th>\n",
       "      <td>Todd</td>\n",
       "      <td>0.6</td>\n",
       "      <td>7</td>\n",
       "    </tr>\n",
       "    <tr>\n",
       "      <th>2</th>\n",
       "      <td>Wright</td>\n",
       "      <td>1.1</td>\n",
       "      <td>45</td>\n",
       "    </tr>\n",
       "    <tr>\n",
       "      <th>3</th>\n",
       "      <td>Wabasha</td>\n",
       "      <td>1.1</td>\n",
       "      <td>7</td>\n",
       "    </tr>\n",
       "    <tr>\n",
       "      <th>4</th>\n",
       "      <td>Waseca</td>\n",
       "      <td>1.1</td>\n",
       "      <td>7</td>\n",
       "    </tr>\n",
       "  </tbody>\n",
       "</table>\n",
       "</div>"
      ],
      "text/plain": [
       "   _County Age-adjusted rate per 10,000 Count of cases\n",
       "0   Winona                          0.5              9\n",
       "1     Todd                          0.6              7\n",
       "2   Wright                          1.1             45\n",
       "3  Wabasha                          1.1              7\n",
       "4   Waseca                          1.1              7"
      ]
     },
     "execution_count": 7,
     "metadata": {},
     "output_type": "execute_result"
    }
   ],
   "source": [
    "df_asthma.drop(['__Outcome', '__Year','Note'], axis = 1,inplace = True)\n",
    "df_asthma.head()"
   ]
  },
  {
   "cell_type": "code",
   "execution_count": 8,
   "id": "45531ceb",
   "metadata": {},
   "outputs": [
    {
     "data": {
      "text/html": [
       "<div>\n",
       "<style scoped>\n",
       "    .dataframe tbody tr th:only-of-type {\n",
       "        vertical-align: middle;\n",
       "    }\n",
       "\n",
       "    .dataframe tbody tr th {\n",
       "        vertical-align: top;\n",
       "    }\n",
       "\n",
       "    .dataframe thead th {\n",
       "        text-align: right;\n",
       "    }\n",
       "</style>\n",
       "<table border=\"1\" class=\"dataframe\">\n",
       "  <thead>\n",
       "    <tr style=\"text-align: right;\">\n",
       "      <th></th>\n",
       "      <th>County</th>\n",
       "      <th>Age-adjusted rate per 10,000</th>\n",
       "      <th>Count of cases</th>\n",
       "    </tr>\n",
       "  </thead>\n",
       "  <tbody>\n",
       "    <tr>\n",
       "      <th>0</th>\n",
       "      <td>Winona</td>\n",
       "      <td>0.5</td>\n",
       "      <td>9</td>\n",
       "    </tr>\n",
       "    <tr>\n",
       "      <th>1</th>\n",
       "      <td>Todd</td>\n",
       "      <td>0.6</td>\n",
       "      <td>7</td>\n",
       "    </tr>\n",
       "    <tr>\n",
       "      <th>2</th>\n",
       "      <td>Wright</td>\n",
       "      <td>1.1</td>\n",
       "      <td>45</td>\n",
       "    </tr>\n",
       "    <tr>\n",
       "      <th>3</th>\n",
       "      <td>Wabasha</td>\n",
       "      <td>1.1</td>\n",
       "      <td>7</td>\n",
       "    </tr>\n",
       "    <tr>\n",
       "      <th>4</th>\n",
       "      <td>Waseca</td>\n",
       "      <td>1.1</td>\n",
       "      <td>7</td>\n",
       "    </tr>\n",
       "  </tbody>\n",
       "</table>\n",
       "</div>"
      ],
      "text/plain": [
       "    County Age-adjusted rate per 10,000 Count of cases\n",
       "0   Winona                          0.5              9\n",
       "1     Todd                          0.6              7\n",
       "2   Wright                          1.1             45\n",
       "3  Wabasha                          1.1              7\n",
       "4   Waseca                          1.1              7"
      ]
     },
     "execution_count": 8,
     "metadata": {},
     "output_type": "execute_result"
    }
   ],
   "source": [
    "df_asthma.rename(columns = {\"_County\": \"County\"}, inplace = True)\n",
    "df_asthma.head()"
   ]
  },
  {
   "cell_type": "code",
   "execution_count": 10,
   "id": "2bba3a0b",
   "metadata": {},
   "outputs": [
    {
     "data": {
      "text/html": [
       "<div>\n",
       "<style scoped>\n",
       "    .dataframe tbody tr th:only-of-type {\n",
       "        vertical-align: middle;\n",
       "    }\n",
       "\n",
       "    .dataframe tbody tr th {\n",
       "        vertical-align: top;\n",
       "    }\n",
       "\n",
       "    .dataframe thead th {\n",
       "        text-align: right;\n",
       "    }\n",
       "</style>\n",
       "<table border=\"1\" class=\"dataframe\">\n",
       "  <thead>\n",
       "    <tr style=\"text-align: right;\">\n",
       "      <th></th>\n",
       "      <th>County</th>\n",
       "      <th>Age-adjusted rate per 10,000</th>\n",
       "      <th>Count of cases</th>\n",
       "    </tr>\n",
       "  </thead>\n",
       "  <tbody>\n",
       "    <tr>\n",
       "      <th>22</th>\n",
       "      <td>Aitkin</td>\n",
       "      <td>2</td>\n",
       "      <td>9</td>\n",
       "    </tr>\n",
       "    <tr>\n",
       "      <th>42</th>\n",
       "      <td>Anoka</td>\n",
       "      <td>2.6</td>\n",
       "      <td>262</td>\n",
       "    </tr>\n",
       "    <tr>\n",
       "      <th>46</th>\n",
       "      <td>Becker</td>\n",
       "      <td>2.7</td>\n",
       "      <td>26</td>\n",
       "    </tr>\n",
       "    <tr>\n",
       "      <th>59</th>\n",
       "      <td>Beltrami</td>\n",
       "      <td>3.7</td>\n",
       "      <td>55</td>\n",
       "    </tr>\n",
       "    <tr>\n",
       "      <th>52</th>\n",
       "      <td>Benton</td>\n",
       "      <td>3.2</td>\n",
       "      <td>37</td>\n",
       "    </tr>\n",
       "  </tbody>\n",
       "</table>\n",
       "</div>"
      ],
      "text/plain": [
       "      County Age-adjusted rate per 10,000 Count of cases\n",
       "22    Aitkin                            2              9\n",
       "42     Anoka                          2.6            262\n",
       "46    Becker                          2.7             26\n",
       "59  Beltrami                          3.7             55\n",
       "52    Benton                          3.2             37"
      ]
     },
     "execution_count": 10,
     "metadata": {},
     "output_type": "execute_result"
    }
   ],
   "source": [
    "df_asthma.sort_values(by = \"County\", inplace = True)\n",
    "df_asthma.head()"
   ]
  },
  {
   "cell_type": "code",
   "execution_count": 28,
   "id": "3c8ed188",
   "metadata": {},
   "outputs": [
    {
     "data": {
      "text/html": [
       "<div>\n",
       "<style scoped>\n",
       "    .dataframe tbody tr th:only-of-type {\n",
       "        vertical-align: middle;\n",
       "    }\n",
       "\n",
       "    .dataframe tbody tr th {\n",
       "        vertical-align: top;\n",
       "    }\n",
       "\n",
       "    .dataframe thead th {\n",
       "        text-align: right;\n",
       "    }\n",
       "</style>\n",
       "<table border=\"1\" class=\"dataframe\">\n",
       "  <thead>\n",
       "    <tr style=\"text-align: right;\">\n",
       "      <th></th>\n",
       "      <th>County</th>\n",
       "      <th>Age-adjusted rate per 10,000</th>\n",
       "      <th>Count of cases</th>\n",
       "    </tr>\n",
       "  </thead>\n",
       "  <tbody>\n",
       "    <tr>\n",
       "      <th>0</th>\n",
       "      <td>Aitkin</td>\n",
       "      <td>2.0</td>\n",
       "      <td>9.0</td>\n",
       "    </tr>\n",
       "    <tr>\n",
       "      <th>1</th>\n",
       "      <td>Anoka</td>\n",
       "      <td>2.6</td>\n",
       "      <td>262.0</td>\n",
       "    </tr>\n",
       "    <tr>\n",
       "      <th>2</th>\n",
       "      <td>Becker</td>\n",
       "      <td>2.7</td>\n",
       "      <td>26.0</td>\n",
       "    </tr>\n",
       "    <tr>\n",
       "      <th>3</th>\n",
       "      <td>Beltrami</td>\n",
       "      <td>3.7</td>\n",
       "      <td>55.0</td>\n",
       "    </tr>\n",
       "    <tr>\n",
       "      <th>4</th>\n",
       "      <td>Benton</td>\n",
       "      <td>3.2</td>\n",
       "      <td>37.0</td>\n",
       "    </tr>\n",
       "    <tr>\n",
       "      <th>...</th>\n",
       "      <td>...</td>\n",
       "      <td>...</td>\n",
       "      <td>...</td>\n",
       "    </tr>\n",
       "    <tr>\n",
       "      <th>83</th>\n",
       "      <td>Watonwan</td>\n",
       "      <td>NaN</td>\n",
       "      <td>NaN</td>\n",
       "    </tr>\n",
       "    <tr>\n",
       "      <th>84</th>\n",
       "      <td>Wilkin</td>\n",
       "      <td>NaN</td>\n",
       "      <td>NaN</td>\n",
       "    </tr>\n",
       "    <tr>\n",
       "      <th>85</th>\n",
       "      <td>Winona</td>\n",
       "      <td>0.5</td>\n",
       "      <td>9.0</td>\n",
       "    </tr>\n",
       "    <tr>\n",
       "      <th>86</th>\n",
       "      <td>Wright</td>\n",
       "      <td>1.1</td>\n",
       "      <td>45.0</td>\n",
       "    </tr>\n",
       "    <tr>\n",
       "      <th>87</th>\n",
       "      <td>Yellow Medicine</td>\n",
       "      <td>3.1</td>\n",
       "      <td>8.0</td>\n",
       "    </tr>\n",
       "  </tbody>\n",
       "</table>\n",
       "<p>88 rows × 3 columns</p>\n",
       "</div>"
      ],
      "text/plain": [
       "             County  Age-adjusted rate per 10,000  Count of cases\n",
       "0            Aitkin                           2.0             9.0\n",
       "1             Anoka                           2.6           262.0\n",
       "2            Becker                           2.7            26.0\n",
       "3          Beltrami                           3.7            55.0\n",
       "4            Benton                           3.2            37.0\n",
       "..              ...                           ...             ...\n",
       "83         Watonwan                           NaN             NaN\n",
       "84           Wilkin                           NaN             NaN\n",
       "85           Winona                           0.5             9.0\n",
       "86           Wright                           1.1            45.0\n",
       "87  Yellow Medicine                           3.1             8.0\n",
       "\n",
       "[88 rows x 3 columns]"
      ]
     },
     "execution_count": 28,
     "metadata": {},
     "output_type": "execute_result"
    }
   ],
   "source": [
    "df_asthma.reset_index(drop= True, inplace = True)\n",
    "df_asthma\n"
   ]
  },
  {
   "cell_type": "code",
   "execution_count": 12,
   "id": "c06762c2",
   "metadata": {},
   "outputs": [
    {
     "data": {
      "text/plain": [
       "88"
      ]
     },
     "execution_count": 12,
     "metadata": {},
     "output_type": "execute_result"
    }
   ],
   "source": [
    "len(df_asthma)"
   ]
  },
  {
   "cell_type": "code",
   "execution_count": 29,
   "id": "39b19a3b",
   "metadata": {},
   "outputs": [
    {
     "data": {
      "text/plain": [
       "County                           0\n",
       "Age-adjusted rate per 10,000    25\n",
       "Count of cases                  25\n",
       "dtype: int64"
      ]
     },
     "execution_count": 29,
     "metadata": {},
     "output_type": "execute_result"
    }
   ],
   "source": [
    "#Checking for null values\n",
    "df_asthma.isnull().sum()"
   ]
  },
  {
   "cell_type": "code",
   "execution_count": 17,
   "id": "6c375ffa",
   "metadata": {},
   "outputs": [
    {
     "data": {
      "text/plain": [
       "County                          object\n",
       "Age-adjusted rate per 10,000    object\n",
       "Count of cases                  object\n",
       "dtype: object"
      ]
     },
     "execution_count": 17,
     "metadata": {},
     "output_type": "execute_result"
    }
   ],
   "source": [
    "# checking for data types \n",
    "df_asthma.dtypes"
   ]
  },
  {
   "cell_type": "code",
   "execution_count": 24,
   "id": "7fcf551e",
   "metadata": {},
   "outputs": [
    {
     "data": {
      "text/plain": [
       "County                           object\n",
       "Age-adjusted rate per 10,000    float64\n",
       "Count of cases                   object\n",
       "dtype: object"
      ]
     },
     "execution_count": 24,
     "metadata": {},
     "output_type": "execute_result"
    }
   ],
   "source": [
    "df_asthma['Age-adjusted rate per 10,000'] = pd.to_numeric(df_asthma['Age-adjusted rate per 10,000']\n",
    "                                                                           ,errors='coerce')\n",
    "df_asthma.dtypes"
   ]
  },
  {
   "cell_type": "code",
   "execution_count": 25,
   "id": "26b0d5f3",
   "metadata": {},
   "outputs": [
    {
     "data": {
      "text/plain": [
       "County                           object\n",
       "Age-adjusted rate per 10,000    float64\n",
       "Count of cases                  float64\n",
       "dtype: object"
      ]
     },
     "execution_count": 25,
     "metadata": {},
     "output_type": "execute_result"
    }
   ],
   "source": [
    "df_asthma['Count of cases'] = pd.to_numeric(df_asthma['Count of cases'], errors='coerce')\n",
    "                                                                           \n",
    "df_asthma.dtypes"
   ]
  },
  {
   "cell_type": "code",
   "execution_count": 30,
   "id": "68f38589",
   "metadata": {},
   "outputs": [],
   "source": [
    "df_asthma.fillna(0,inplace=True)"
   ]
  },
  {
   "cell_type": "code",
   "execution_count": 31,
   "id": "a2a16e33",
   "metadata": {},
   "outputs": [
    {
     "data": {
      "text/html": [
       "<div>\n",
       "<style scoped>\n",
       "    .dataframe tbody tr th:only-of-type {\n",
       "        vertical-align: middle;\n",
       "    }\n",
       "\n",
       "    .dataframe tbody tr th {\n",
       "        vertical-align: top;\n",
       "    }\n",
       "\n",
       "    .dataframe thead th {\n",
       "        text-align: right;\n",
       "    }\n",
       "</style>\n",
       "<table border=\"1\" class=\"dataframe\">\n",
       "  <thead>\n",
       "    <tr style=\"text-align: right;\">\n",
       "      <th></th>\n",
       "      <th>County</th>\n",
       "      <th>Age-adjusted rate per 10,000</th>\n",
       "      <th>Count of cases</th>\n",
       "    </tr>\n",
       "  </thead>\n",
       "  <tbody>\n",
       "    <tr>\n",
       "      <th>0</th>\n",
       "      <td>Aitkin</td>\n",
       "      <td>2.0</td>\n",
       "      <td>9.0</td>\n",
       "    </tr>\n",
       "    <tr>\n",
       "      <th>1</th>\n",
       "      <td>Anoka</td>\n",
       "      <td>2.6</td>\n",
       "      <td>262.0</td>\n",
       "    </tr>\n",
       "    <tr>\n",
       "      <th>2</th>\n",
       "      <td>Becker</td>\n",
       "      <td>2.7</td>\n",
       "      <td>26.0</td>\n",
       "    </tr>\n",
       "    <tr>\n",
       "      <th>3</th>\n",
       "      <td>Beltrami</td>\n",
       "      <td>3.7</td>\n",
       "      <td>55.0</td>\n",
       "    </tr>\n",
       "    <tr>\n",
       "      <th>4</th>\n",
       "      <td>Benton</td>\n",
       "      <td>3.2</td>\n",
       "      <td>37.0</td>\n",
       "    </tr>\n",
       "    <tr>\n",
       "      <th>...</th>\n",
       "      <td>...</td>\n",
       "      <td>...</td>\n",
       "      <td>...</td>\n",
       "    </tr>\n",
       "    <tr>\n",
       "      <th>83</th>\n",
       "      <td>Watonwan</td>\n",
       "      <td>0.0</td>\n",
       "      <td>0.0</td>\n",
       "    </tr>\n",
       "    <tr>\n",
       "      <th>84</th>\n",
       "      <td>Wilkin</td>\n",
       "      <td>0.0</td>\n",
       "      <td>0.0</td>\n",
       "    </tr>\n",
       "    <tr>\n",
       "      <th>85</th>\n",
       "      <td>Winona</td>\n",
       "      <td>0.5</td>\n",
       "      <td>9.0</td>\n",
       "    </tr>\n",
       "    <tr>\n",
       "      <th>86</th>\n",
       "      <td>Wright</td>\n",
       "      <td>1.1</td>\n",
       "      <td>45.0</td>\n",
       "    </tr>\n",
       "    <tr>\n",
       "      <th>87</th>\n",
       "      <td>Yellow Medicine</td>\n",
       "      <td>3.1</td>\n",
       "      <td>8.0</td>\n",
       "    </tr>\n",
       "  </tbody>\n",
       "</table>\n",
       "<p>88 rows × 3 columns</p>\n",
       "</div>"
      ],
      "text/plain": [
       "             County  Age-adjusted rate per 10,000  Count of cases\n",
       "0            Aitkin                           2.0             9.0\n",
       "1             Anoka                           2.6           262.0\n",
       "2            Becker                           2.7            26.0\n",
       "3          Beltrami                           3.7            55.0\n",
       "4            Benton                           3.2            37.0\n",
       "..              ...                           ...             ...\n",
       "83         Watonwan                           0.0             0.0\n",
       "84           Wilkin                           0.0             0.0\n",
       "85           Winona                           0.5             9.0\n",
       "86           Wright                           1.1            45.0\n",
       "87  Yellow Medicine                           3.1             8.0\n",
       "\n",
       "[88 rows x 3 columns]"
      ]
     },
     "execution_count": 31,
     "metadata": {},
     "output_type": "execute_result"
    }
   ],
   "source": [
    "df_asthma\n"
   ]
  },
  {
   "cell_type": "code",
   "execution_count": 32,
   "id": "47fc8bee",
   "metadata": {},
   "outputs": [],
   "source": [
    "df_asthma.to_json('Output/asthma(2018-2020).json', orient='records')"
   ]
  },
  {
   "cell_type": "code",
   "execution_count": null,
   "id": "97683c12",
   "metadata": {},
   "outputs": [],
   "source": []
  }
 ],
 "metadata": {
  "kernelspec": {
   "display_name": "Python 3 (ipykernel)",
   "language": "python",
   "name": "python3"
  },
  "language_info": {
   "codemirror_mode": {
    "name": "ipython",
    "version": 3
   },
   "file_extension": ".py",
   "mimetype": "text/x-python",
   "name": "python",
   "nbconvert_exporter": "python",
   "pygments_lexer": "ipython3",
   "version": "3.10.9"
  }
 },
 "nbformat": 4,
 "nbformat_minor": 5
}
