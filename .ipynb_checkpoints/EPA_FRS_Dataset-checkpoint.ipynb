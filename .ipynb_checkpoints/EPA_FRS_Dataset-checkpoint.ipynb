{
 "cells": [
  {
   "cell_type": "code",
   "execution_count": 1,
   "id": "f6962094",
   "metadata": {},
   "outputs": [],
   "source": [
    "# imports\n",
    "import pandas as pd"
   ]
  },
  {
   "cell_type": "code",
   "execution_count": 2,
   "id": "94814da8",
   "metadata": {},
   "outputs": [
    {
     "name": "stderr",
     "output_type": "stream",
     "text": [
      "/var/folders/_9/80bxm26n3b5300q7n7g729_c0000gn/T/ipykernel_31330/333130296.py:2: DtypeWarning: Columns (5,7,13,14,15,16,21,27,29,30,34,36) have mixed types. Specify dtype option on import or set low_memory=False.\n",
      "  df_epa_frs = pd.read_csv(\"Source_Data/STATE_SINGLE_MN.csv\")\n"
     ]
    }
   ],
   "source": [
    "# Read in CSV file to create EPA FRS dataframe\n",
    "df_epa_frs = pd.read_csv(\"Source_Data/STATE_SINGLE_MN.csv\")\n"
   ]
  },
  {
   "cell_type": "code",
   "execution_count": 3,
   "id": "4bc6c1d2",
   "metadata": {},
   "outputs": [
    {
     "data": {
      "text/html": [
       "<div>\n",
       "<style scoped>\n",
       "    .dataframe tbody tr th:only-of-type {\n",
       "        vertical-align: middle;\n",
       "    }\n",
       "\n",
       "    .dataframe tbody tr th {\n",
       "        vertical-align: top;\n",
       "    }\n",
       "\n",
       "    .dataframe thead th {\n",
       "        text-align: right;\n",
       "    }\n",
       "</style>\n",
       "<table border=\"1\" class=\"dataframe\">\n",
       "  <thead>\n",
       "    <tr style=\"text-align: right;\">\n",
       "      <th></th>\n",
       "      <th>FRS_FACILITY_DETAIL_REPORT_URL</th>\n",
       "      <th>REGISTRY_ID</th>\n",
       "      <th>PRIMARY_NAME</th>\n",
       "      <th>LOCATION_ADDRESS</th>\n",
       "      <th>SUPPLEMENTAL_LOCATION</th>\n",
       "      <th>CITY_NAME</th>\n",
       "      <th>COUNTY_NAME</th>\n",
       "      <th>FIPS_CODE</th>\n",
       "      <th>STATE_CODE</th>\n",
       "      <th>STATE_NAME</th>\n",
       "      <th>...</th>\n",
       "      <th>SIC_CODES</th>\n",
       "      <th>SIC_CODE_DESCRIPTIONS</th>\n",
       "      <th>LATITUDE83</th>\n",
       "      <th>LONGITUDE83</th>\n",
       "      <th>CONVEYOR</th>\n",
       "      <th>COLLECT_DESC</th>\n",
       "      <th>ACCURACY_VALUE</th>\n",
       "      <th>REF_POINT_DESC</th>\n",
       "      <th>HDATUM_DESC</th>\n",
       "      <th>SOURCE_DESC</th>\n",
       "    </tr>\n",
       "  </thead>\n",
       "  <tbody>\n",
       "    <tr>\n",
       "      <th>0</th>\n",
       "      <td>https://ofmpub.epa.gov/frs_public2/fii_query_d...</td>\n",
       "      <td>110055452380</td>\n",
       "      <td>SHERWIN-WILLIAMS 3296</td>\n",
       "      <td>10690 BALTIMORE ST NE</td>\n",
       "      <td>NaN</td>\n",
       "      <td>10690 BALTIMORE ST NE</td>\n",
       "      <td>ANOKA</td>\n",
       "      <td>27003</td>\n",
       "      <td>MN</td>\n",
       "      <td>MINNESOTA</td>\n",
       "      <td>...</td>\n",
       "      <td>5231</td>\n",
       "      <td>PAINT, GLASS, AND WALLPAPER STORES</td>\n",
       "      <td>45.16277</td>\n",
       "      <td>-93.23254</td>\n",
       "      <td>FRS-GEOCODE</td>\n",
       "      <td>ADDRESS MATCHING-HOUSE NUMBER</td>\n",
       "      <td>30.0</td>\n",
       "      <td>CENTER OF A FACILITY OR STATION</td>\n",
       "      <td>NAD83</td>\n",
       "      <td>NaN</td>\n",
       "    </tr>\n",
       "    <tr>\n",
       "      <th>1</th>\n",
       "      <td>https://ofmpub.epa.gov/frs_public2/fii_query_d...</td>\n",
       "      <td>110055527835</td>\n",
       "      <td>PARKER AUTO MALL</td>\n",
       "      <td>6771 MAIN ST</td>\n",
       "      <td>NaN</td>\n",
       "      <td>6771 MAIN ST</td>\n",
       "      <td>CHISAGO</td>\n",
       "      <td>27025</td>\n",
       "      <td>MN</td>\n",
       "      <td>MINNESOTA</td>\n",
       "      <td>...</td>\n",
       "      <td>NaN</td>\n",
       "      <td>NaN</td>\n",
       "      <td>45.51152</td>\n",
       "      <td>-92.97108</td>\n",
       "      <td>FRS-GEOCODE</td>\n",
       "      <td>ADDRESS MATCHING-HOUSE NUMBER</td>\n",
       "      <td>30.0</td>\n",
       "      <td>CENTER OF A FACILITY OR STATION</td>\n",
       "      <td>NAD83</td>\n",
       "      <td>NaN</td>\n",
       "    </tr>\n",
       "    <tr>\n",
       "      <th>2</th>\n",
       "      <td>https://ofmpub.epa.gov/frs_public2/fii_query_d...</td>\n",
       "      <td>110069113113</td>\n",
       "      <td>150TH STREET - AASTAD TOWNSHIP</td>\n",
       "      <td>SEE LOCATION DESCRIPTION</td>\n",
       "      <td>NaN</td>\n",
       "      <td>AASTAD TOWNSHIP</td>\n",
       "      <td>OTTER TAIL</td>\n",
       "      <td>27111</td>\n",
       "      <td>MN</td>\n",
       "      <td>MINNESOTA</td>\n",
       "      <td>...</td>\n",
       "      <td>NaN</td>\n",
       "      <td>NaN</td>\n",
       "      <td>NaN</td>\n",
       "      <td>NaN</td>\n",
       "      <td>NaN</td>\n",
       "      <td>NaN</td>\n",
       "      <td>NaN</td>\n",
       "      <td>NaN</td>\n",
       "      <td>NAD83</td>\n",
       "      <td>NaN</td>\n",
       "    </tr>\n",
       "    <tr>\n",
       "      <th>3</th>\n",
       "      <td>https://ofmpub.epa.gov/frs_public2/fii_query_d...</td>\n",
       "      <td>110068363425</td>\n",
       "      <td>AASTAD TOWNSHIP DUMP SITE</td>\n",
       "      <td>SEE LOCATION DESCRIPTION</td>\n",
       "      <td>NaN</td>\n",
       "      <td>AASTAD TOWNSHIP</td>\n",
       "      <td>OTTER TAIL</td>\n",
       "      <td>27111</td>\n",
       "      <td>MN</td>\n",
       "      <td>MINNESOTA</td>\n",
       "      <td>...</td>\n",
       "      <td>NaN</td>\n",
       "      <td>NaN</td>\n",
       "      <td>NaN</td>\n",
       "      <td>NaN</td>\n",
       "      <td>NaN</td>\n",
       "      <td>NaN</td>\n",
       "      <td>NaN</td>\n",
       "      <td>NaN</td>\n",
       "      <td>NAD83</td>\n",
       "      <td>NaN</td>\n",
       "    </tr>\n",
       "    <tr>\n",
       "      <th>4</th>\n",
       "      <td>https://ofmpub.epa.gov/frs_public2/fii_query_d...</td>\n",
       "      <td>110068290904</td>\n",
       "      <td>GARY T LIEN FARM</td>\n",
       "      <td>12701 220TH AVE</td>\n",
       "      <td>NaN</td>\n",
       "      <td>AASTAD TOWNSHIP</td>\n",
       "      <td>OTTER TAIL</td>\n",
       "      <td>27111</td>\n",
       "      <td>MN</td>\n",
       "      <td>MINNESOTA</td>\n",
       "      <td>...</td>\n",
       "      <td>NaN</td>\n",
       "      <td>NaN</td>\n",
       "      <td>46.14703</td>\n",
       "      <td>-96.02937</td>\n",
       "      <td>FRS-GEOCODE</td>\n",
       "      <td>ADDRESS MATCHING-HOUSE NUMBER</td>\n",
       "      <td>30.0</td>\n",
       "      <td>CENTER OF A FACILITY OR STATION</td>\n",
       "      <td>NAD83</td>\n",
       "      <td>NaN</td>\n",
       "    </tr>\n",
       "  </tbody>\n",
       "</table>\n",
       "<p>5 rows × 39 columns</p>\n",
       "</div>"
      ],
      "text/plain": [
       "                      FRS_FACILITY_DETAIL_REPORT_URL   REGISTRY_ID  \\\n",
       "0  https://ofmpub.epa.gov/frs_public2/fii_query_d...  110055452380   \n",
       "1  https://ofmpub.epa.gov/frs_public2/fii_query_d...  110055527835   \n",
       "2  https://ofmpub.epa.gov/frs_public2/fii_query_d...  110069113113   \n",
       "3  https://ofmpub.epa.gov/frs_public2/fii_query_d...  110068363425   \n",
       "4  https://ofmpub.epa.gov/frs_public2/fii_query_d...  110068290904   \n",
       "\n",
       "                     PRIMARY_NAME          LOCATION_ADDRESS  \\\n",
       "0           SHERWIN-WILLIAMS 3296     10690 BALTIMORE ST NE   \n",
       "1                PARKER AUTO MALL              6771 MAIN ST   \n",
       "2  150TH STREET - AASTAD TOWNSHIP  SEE LOCATION DESCRIPTION   \n",
       "3       AASTAD TOWNSHIP DUMP SITE  SEE LOCATION DESCRIPTION   \n",
       "4                GARY T LIEN FARM           12701 220TH AVE   \n",
       "\n",
       "  SUPPLEMENTAL_LOCATION              CITY_NAME COUNTY_NAME FIPS_CODE  \\\n",
       "0                   NaN  10690 BALTIMORE ST NE       ANOKA     27003   \n",
       "1                   NaN           6771 MAIN ST     CHISAGO     27025   \n",
       "2                   NaN        AASTAD TOWNSHIP  OTTER TAIL     27111   \n",
       "3                   NaN        AASTAD TOWNSHIP  OTTER TAIL     27111   \n",
       "4                   NaN        AASTAD TOWNSHIP  OTTER TAIL     27111   \n",
       "\n",
       "  STATE_CODE STATE_NAME  ... SIC_CODES               SIC_CODE_DESCRIPTIONS  \\\n",
       "0         MN  MINNESOTA  ...      5231  PAINT, GLASS, AND WALLPAPER STORES   \n",
       "1         MN  MINNESOTA  ...       NaN                                 NaN   \n",
       "2         MN  MINNESOTA  ...       NaN                                 NaN   \n",
       "3         MN  MINNESOTA  ...       NaN                                 NaN   \n",
       "4         MN  MINNESOTA  ...       NaN                                 NaN   \n",
       "\n",
       "  LATITUDE83 LONGITUDE83     CONVEYOR                   COLLECT_DESC  \\\n",
       "0   45.16277   -93.23254  FRS-GEOCODE  ADDRESS MATCHING-HOUSE NUMBER   \n",
       "1   45.51152   -92.97108  FRS-GEOCODE  ADDRESS MATCHING-HOUSE NUMBER   \n",
       "2        NaN         NaN          NaN                            NaN   \n",
       "3        NaN         NaN          NaN                            NaN   \n",
       "4   46.14703   -96.02937  FRS-GEOCODE  ADDRESS MATCHING-HOUSE NUMBER   \n",
       "\n",
       "  ACCURACY_VALUE                   REF_POINT_DESC  HDATUM_DESC  SOURCE_DESC  \n",
       "0           30.0  CENTER OF A FACILITY OR STATION        NAD83          NaN  \n",
       "1           30.0  CENTER OF A FACILITY OR STATION        NAD83          NaN  \n",
       "2            NaN                              NaN        NAD83          NaN  \n",
       "3            NaN                              NaN        NAD83          NaN  \n",
       "4           30.0  CENTER OF A FACILITY OR STATION        NAD83          NaN  \n",
       "\n",
       "[5 rows x 39 columns]"
      ]
     },
     "execution_count": 3,
     "metadata": {},
     "output_type": "execute_result"
    }
   ],
   "source": [
    "# inspect dataframe \n",
    "df_epa_frs.head()"
   ]
  },
  {
   "cell_type": "code",
   "execution_count": 4,
   "id": "0f36b060",
   "metadata": {},
   "outputs": [
    {
     "data": {
      "text/plain": [
       "Index(['FRS_FACILITY_DETAIL_REPORT_URL', 'REGISTRY_ID', 'PRIMARY_NAME',\n",
       "       'LOCATION_ADDRESS', 'SUPPLEMENTAL_LOCATION', 'CITY_NAME', 'COUNTY_NAME',\n",
       "       'FIPS_CODE', 'STATE_CODE', 'STATE_NAME', 'COUNTRY_NAME', 'POSTAL_CODE',\n",
       "       'FEDERAL_FACILITY_CODE', 'FEDERAL_AGENCY_NAME', 'TRIBAL_LAND_CODE',\n",
       "       'TRIBAL_LAND_NAME', 'CONGRESSIONAL_DIST_NUM', 'CENSUS_BLOCK_CODE',\n",
       "       'HUC_CODE', 'EPA_REGION_CODE', 'SITE_TYPE_NAME', 'LOCATION_DESCRIPTION',\n",
       "       'CREATE_DATE', 'UPDATE_DATE', 'US_MEXICO_BORDER_IND', 'PGM_SYS_ACRNMS',\n",
       "       'INTEREST_TYPES', 'NAICS_CODES', 'NAICS_CODE_DESCRIPTIONS', 'SIC_CODES',\n",
       "       'SIC_CODE_DESCRIPTIONS', 'LATITUDE83', 'LONGITUDE83', 'CONVEYOR',\n",
       "       'COLLECT_DESC', 'ACCURACY_VALUE', 'REF_POINT_DESC', 'HDATUM_DESC',\n",
       "       'SOURCE_DESC'],\n",
       "      dtype='object')"
      ]
     },
     "execution_count": 4,
     "metadata": {},
     "output_type": "execute_result"
    }
   ],
   "source": [
    "# inspect columns\n",
    "df_epa_frs.columns"
   ]
  },
  {
   "cell_type": "code",
   "execution_count": 5,
   "id": "2ce27bcb",
   "metadata": {},
   "outputs": [
    {
     "name": "stderr",
     "output_type": "stream",
     "text": [
      "/var/folders/_9/80bxm26n3b5300q7n7g729_c0000gn/T/ipykernel_31330/4280381693.py:5: SettingWithCopyWarning: \n",
      "A value is trying to be set on a copy of a slice from a DataFrame\n",
      "\n",
      "See the caveats in the documentation: https://pandas.pydata.org/pandas-docs/stable/user_guide/indexing.html#returning-a-view-versus-a-copy\n",
      "  df_epa_frs_clean.rename(columns = {'LATITUDE83': 'LATITUDE', 'LONGITUDE83': 'LONGITUDE', 'PRIMARY_NAME': 'SITE PRIMARY NAME', 'LOCATION_ADDRESS': 'SITE_ADDRESS'}, inplace = True)\n"
     ]
    }
   ],
   "source": [
    "# create new dataframe by dropping unneccessary columns\n",
    "df_epa_frs_clean = df_epa_frs[['REGISTRY_ID', 'PRIMARY_NAME', 'LOCATION_ADDRESS', 'COUNTY_NAME','SITE_TYPE_NAME', 'INTEREST_TYPES', 'LATITUDE83', 'LONGITUDE83']]\n",
    "\n",
    "# rename columns for readability\n",
    "df_epa_frs_clean.rename(columns = {'LATITUDE83': 'LATITUDE', 'LONGITUDE83': 'LONGITUDE', 'PRIMARY_NAME': 'SITE PRIMARY NAME', 'LOCATION_ADDRESS': 'SITE_ADDRESS'}, inplace = True)"
   ]
  },
  {
   "cell_type": "code",
   "execution_count": 6,
   "id": "02a593fa",
   "metadata": {},
   "outputs": [
    {
     "ename": "KeyError",
     "evalue": "['LOCATION_ADDRESS']",
     "output_type": "error",
     "traceback": [
      "\u001b[0;31m---------------------------------------------------------------------------\u001b[0m",
      "\u001b[0;31mKeyError\u001b[0m                                  Traceback (most recent call last)",
      "\u001b[0;32m/var/folders/_9/80bxm26n3b5300q7n7g729_c0000gn/T/ipykernel_31330/534522529.py\u001b[0m in \u001b[0;36m<module>\u001b[0;34m\u001b[0m\n\u001b[1;32m      4\u001b[0m \u001b[0mdf_epa_frs_clean\u001b[0m \u001b[0;34m=\u001b[0m \u001b[0mdf_epa_frs_clean\u001b[0m\u001b[0;34m.\u001b[0m\u001b[0mdropna\u001b[0m\u001b[0;34m(\u001b[0m\u001b[0maxis\u001b[0m\u001b[0;34m=\u001b[0m\u001b[0;36m0\u001b[0m\u001b[0;34m,\u001b[0m \u001b[0msubset\u001b[0m\u001b[0;34m=\u001b[0m\u001b[0;34m[\u001b[0m\u001b[0;34m'INTEREST_TYPES'\u001b[0m\u001b[0;34m]\u001b[0m\u001b[0;34m)\u001b[0m\u001b[0;34m\u001b[0m\u001b[0;34m\u001b[0m\u001b[0m\n\u001b[1;32m      5\u001b[0m \u001b[0mdf_epa_frs_clean\u001b[0m \u001b[0;34m=\u001b[0m \u001b[0mdf_epa_frs_clean\u001b[0m\u001b[0;34m.\u001b[0m\u001b[0mdropna\u001b[0m\u001b[0;34m(\u001b[0m\u001b[0maxis\u001b[0m\u001b[0;34m=\u001b[0m\u001b[0;36m0\u001b[0m\u001b[0;34m,\u001b[0m \u001b[0msubset\u001b[0m\u001b[0;34m=\u001b[0m\u001b[0;34m[\u001b[0m\u001b[0;34m'SITE_TYPE_NAME'\u001b[0m\u001b[0;34m]\u001b[0m\u001b[0;34m)\u001b[0m\u001b[0;34m\u001b[0m\u001b[0;34m\u001b[0m\u001b[0m\n\u001b[0;32m----> 6\u001b[0;31m \u001b[0mdf_epa_frs_clean\u001b[0m \u001b[0;34m=\u001b[0m \u001b[0mdf_epa_frs_clean\u001b[0m\u001b[0;34m.\u001b[0m\u001b[0mdropna\u001b[0m\u001b[0;34m(\u001b[0m\u001b[0maxis\u001b[0m\u001b[0;34m=\u001b[0m\u001b[0;36m0\u001b[0m\u001b[0;34m,\u001b[0m \u001b[0msubset\u001b[0m\u001b[0;34m=\u001b[0m\u001b[0;34m[\u001b[0m\u001b[0;34m'LOCATION_ADDRESS'\u001b[0m\u001b[0;34m]\u001b[0m\u001b[0;34m)\u001b[0m\u001b[0;34m\u001b[0m\u001b[0;34m\u001b[0m\u001b[0m\n\u001b[0m",
      "\u001b[0;32m~/opt/anaconda3/lib/python3.9/site-packages/pandas/util/_decorators.py\u001b[0m in \u001b[0;36mwrapper\u001b[0;34m(*args, **kwargs)\u001b[0m\n\u001b[1;32m    309\u001b[0m                     \u001b[0mstacklevel\u001b[0m\u001b[0;34m=\u001b[0m\u001b[0mstacklevel\u001b[0m\u001b[0;34m,\u001b[0m\u001b[0;34m\u001b[0m\u001b[0;34m\u001b[0m\u001b[0m\n\u001b[1;32m    310\u001b[0m                 )\n\u001b[0;32m--> 311\u001b[0;31m             \u001b[0;32mreturn\u001b[0m \u001b[0mfunc\u001b[0m\u001b[0;34m(\u001b[0m\u001b[0;34m*\u001b[0m\u001b[0margs\u001b[0m\u001b[0;34m,\u001b[0m \u001b[0;34m**\u001b[0m\u001b[0mkwargs\u001b[0m\u001b[0;34m)\u001b[0m\u001b[0;34m\u001b[0m\u001b[0;34m\u001b[0m\u001b[0m\n\u001b[0m\u001b[1;32m    312\u001b[0m \u001b[0;34m\u001b[0m\u001b[0m\n\u001b[1;32m    313\u001b[0m         \u001b[0;32mreturn\u001b[0m \u001b[0mwrapper\u001b[0m\u001b[0;34m\u001b[0m\u001b[0;34m\u001b[0m\u001b[0m\n",
      "\u001b[0;32m~/opt/anaconda3/lib/python3.9/site-packages/pandas/core/frame.py\u001b[0m in \u001b[0;36mdropna\u001b[0;34m(self, axis, how, thresh, subset, inplace)\u001b[0m\n\u001b[1;32m   6009\u001b[0m             \u001b[0mcheck\u001b[0m \u001b[0;34m=\u001b[0m \u001b[0mindices\u001b[0m \u001b[0;34m==\u001b[0m \u001b[0;34m-\u001b[0m\u001b[0;36m1\u001b[0m\u001b[0;34m\u001b[0m\u001b[0;34m\u001b[0m\u001b[0m\n\u001b[1;32m   6010\u001b[0m             \u001b[0;32mif\u001b[0m \u001b[0mcheck\u001b[0m\u001b[0;34m.\u001b[0m\u001b[0many\u001b[0m\u001b[0;34m(\u001b[0m\u001b[0;34m)\u001b[0m\u001b[0;34m:\u001b[0m\u001b[0;34m\u001b[0m\u001b[0;34m\u001b[0m\u001b[0m\n\u001b[0;32m-> 6011\u001b[0;31m                 \u001b[0;32mraise\u001b[0m \u001b[0mKeyError\u001b[0m\u001b[0;34m(\u001b[0m\u001b[0mnp\u001b[0m\u001b[0;34m.\u001b[0m\u001b[0marray\u001b[0m\u001b[0;34m(\u001b[0m\u001b[0msubset\u001b[0m\u001b[0;34m)\u001b[0m\u001b[0;34m[\u001b[0m\u001b[0mcheck\u001b[0m\u001b[0;34m]\u001b[0m\u001b[0;34m.\u001b[0m\u001b[0mtolist\u001b[0m\u001b[0;34m(\u001b[0m\u001b[0;34m)\u001b[0m\u001b[0;34m)\u001b[0m\u001b[0;34m\u001b[0m\u001b[0;34m\u001b[0m\u001b[0m\n\u001b[0m\u001b[1;32m   6012\u001b[0m             \u001b[0magg_obj\u001b[0m \u001b[0;34m=\u001b[0m \u001b[0mself\u001b[0m\u001b[0;34m.\u001b[0m\u001b[0mtake\u001b[0m\u001b[0;34m(\u001b[0m\u001b[0mindices\u001b[0m\u001b[0;34m,\u001b[0m \u001b[0maxis\u001b[0m\u001b[0;34m=\u001b[0m\u001b[0magg_axis\u001b[0m\u001b[0;34m)\u001b[0m\u001b[0;34m\u001b[0m\u001b[0;34m\u001b[0m\u001b[0m\n\u001b[1;32m   6013\u001b[0m \u001b[0;34m\u001b[0m\u001b[0m\n",
      "\u001b[0;31mKeyError\u001b[0m: ['LOCATION_ADDRESS']"
     ]
    }
   ],
   "source": [
    "#drop rows with null values in coordinate, interest types, location address, or site types columns\n",
    "df_epa_frs_clean = df_epa_frs_clean.dropna(axis=0, subset=['LATITUDE'])\n",
    "df_epa_frs_clean = df_epa_frs_clean.dropna(axis=0, subset=['LONGITUDE'])\n",
    "df_epa_frs_clean = df_epa_frs_clean.dropna(axis=0, subset=['INTEREST_TYPES'])\n",
    "df_epa_frs_clean = df_epa_frs_clean.dropna(axis=0, subset=['SITE_TYPE_NAME'])\n",
    "df_epa_frs_clean = df_epa_frs_clean.dropna(axis=0, subset=['SITE_ADDRESS'])"
   ]
  },
  {
   "cell_type": "code",
   "execution_count": null,
   "id": "477cfb93",
   "metadata": {},
   "outputs": [],
   "source": [
    "# drop rows where interest type is \"state master\" only\n",
    "df_epa_frs_clean = df_epa_frs_clean[df_epa_frs_clean.INTEREST_TYPES != \"STATE MASTER\"]"
   ]
  },
  {
   "cell_type": "code",
   "execution_count": null,
   "id": "eeab0d8a",
   "metadata": {},
   "outputs": [],
   "source": [
    "# create list of search terms for interest types to try and narrow down to relevant sites\n",
    "search_term_list = ['RELEASE ASSESSMENT','AIR EMISSION INVENTORY', 'AIR MAJOR', 'AIR MINOR', 'AIR SYNTHETIC MINOR', 'ELECTRIC GENERATOR', 'ELECTRIC POWER GENERAT', 'ETHANOL FACILITY', 'GASOLINE', 'GREENHOUSE GAS', 'ANIMAL', 'LIVESTOCK', 'TRI REPORTER', 'TSCA SUBMITTER', 'EPCRA', 'FRP', 'SPCC', 'MINERAL EXPLORATION', 'CATHODE RAY', 'CESQG', 'CORRECTIVE ACTION', 'HAZARDOUS WASTE', 'INCINERATOR', 'INFECTIOUS WASTE', 'LQG', 'SQG', 'TSD', 'UIC', 'USED OIL', 'COMPLIANCE', 'ENFORCEMENT', 'PESTICIDE', 'RAD NPL', 'RAD WIPP', 'RAD NESHAPS', 'RADIOACTIVE', 'CLEANUP', 'REMEDIATION', 'REMEDIAL', 'BROWNFIELDS', 'SEDIMENTS', 'SUPERFUND', 'E-WASTE', 'INDUSTRIAL SITES', 'MATERIAL RECYCLING', 'MINE', 'MINING', 'OIL CONTROL', 'REFUSE DISPOSAL', 'SCRAP TIRE MANAGEMENT', 'SEWAGE SLUDGE', 'SOLID WASTE', 'LEAKING STORAGE TANK','UNDERGROUND STORAGE TANK', 'BIOSOLIDS', 'NPDES MAJOR', 'NPDES-MINOR', 'NPDES NON-MAJOR' 'NPDES UNPERMITTED', 'OIL AND GAS', 'MULTI-PERMITTED SITE']\n",
    "\n",
    "# filter dataframe by search term list within the Interest_Types field\n",
    "final_epa_frs_clean = df_epa_frs_clean[df_epa_frs_clean['INTEREST_TYPES'].str.contains('|'.join(search_term_list))]"
   ]
  },
  {
   "cell_type": "code",
   "execution_count": null,
   "id": "459924fd",
   "metadata": {},
   "outputs": [],
   "source": [
    "# inspect final dataframe\n",
    "final_epa_frs_clean.tail(30)"
   ]
  },
  {
   "cell_type": "code",
   "execution_count": null,
   "id": "70e33418",
   "metadata": {},
   "outputs": [],
   "source": [
    "# convert to json\n",
    "final_epa_frs_clean.to_json('epa_frs_data.json', orient='records')"
   ]
  }
 ],
 "metadata": {
  "kernelspec": {
   "display_name": "Python 3 (ipykernel)",
   "language": "python",
   "name": "python3"
  },
  "language_info": {
   "codemirror_mode": {
    "name": "ipython",
    "version": 3
   },
   "file_extension": ".py",
   "mimetype": "text/x-python",
   "name": "python",
   "nbconvert_exporter": "python",
   "pygments_lexer": "ipython3",
   "version": "3.9.13"
  }
 },
 "nbformat": 4,
 "nbformat_minor": 5
}
